{
 "cells": [
  {
   "cell_type": "markdown",
   "metadata": {},
   "source": [
    "# Задача 9\n",
    "\n",
    "Методом прогонки решить разностный аналог граничной задачи для уравнения \n",
    "\n",
    "$$y'' = \\sin{x}$$\n",
    "\n",
    "на промежутке $0 < x < \\pi$. Рассмотреть различные варианты граничных условий."
   ]
  },
  {
   "cell_type": "markdown",
   "metadata": {},
   "source": [
    "## Решение:"
   ]
  },
  {
   "cell_type": "code",
   "execution_count": 1,
   "metadata": {},
   "outputs": [],
   "source": [
    "import math\n",
    "import numpy as np\n",
    "import matplotlib.pyplot as plt"
   ]
  },
  {
   "cell_type": "markdown",
   "metadata": {},
   "source": [
    "### Метод прогонки"
   ]
  },
  {
   "cell_type": "markdown",
   "metadata": {},
   "source": [
    "Производную можно переписать через разделенную разность. Уравнение сводится к системе уравнений. \n",
    "\n",
    "$$y''(x_i) \\approx \\frac{y(x_{i-1}) - 2y(x_i) + y(x_{i+1})}{h^2}, \\; \\; i = 0 ... n-1$$\n",
    "\n",
    "Можно переписать как\n",
    "\n",
    "$$y(x_{i-1}) - 2y(x_i) + y(x_{i+1}) = h^2 f(x_i), \\; \\; i = 0 ... n-1$$\n",
    "\n",
    "Или в матричном виде: \n",
    "\n",
    "$$\\begin{pmatrix}\n",
    "1 & 0 & 0 & 0 &... & 0 & 0 & 0\\\\\n",
    "1 & -2 & 1 & 0 & ... & 0 & 0 & 0\\\\\n",
    "0 & 1 & -2 & 1 & ... & 0 & 0 & 0 \\\\\n",
    ". & . & . & . & ... & . & . & . \\\\\n",
    "0 & 0 & 0 & 0 & ... & 1 & -2 & 1 \\\\\n",
    "0 & 0 & 0 & 0 & ... & 0 & 0 & 1 \\\\\n",
    "\\end{pmatrix}\n",
    "\\begin{pmatrix}\n",
    "y(t_0)\\\\\n",
    "y(t_1)\\\\\n",
    "y(t_2)\\\\\n",
    "...\\\\\n",
    "y(t_{n-1})\\\\\n",
    "y(t_{n})\\\\\n",
    "\\end{pmatrix} = h^2\n",
    "\\begin{pmatrix}\n",
    "y(t_0)\\\\\n",
    "f(t_1)\\\\\n",
    "f(t_2)\\\\\n",
    "...\\\\\n",
    "f(t_{n-1})\\\\\n",
    "y(t_{n})\\\\\n",
    "\\end{pmatrix}$$\n",
    "\n",
    "В левой части стоит трехдиагональная матрица. Задам её тремя списками:\n",
    "\n",
    "* `b` - элементы главной диагонали\n",
    "* `a` - элементы диагонали под главной\n",
    "* `с` - элементы диагонали над главной\n",
    "\n",
    "В каждом списке элементы с индексами $0 ... n$, при этом $a_0 = 0$ и $c_n = 0$.\n",
    "\n",
    "Вектор-столбец правой части задам списком `d`. В первом и последнем его элементе стоят граничные условия, в остальных - значения функции из правой части уравнения. \n",
    "\n",
    "Задача сводится к решению СЛАУ."
   ]
  },
  {
   "cell_type": "code",
   "execution_count": 2,
   "metadata": {},
   "outputs": [],
   "source": [
    "def make_system(n, x_0, x_n, y_0, y_n):\n",
    "    \n",
    "    h = (x_n - x_0)/n\n",
    "    \n",
    "    a = []\n",
    "    b = []\n",
    "    c = []\n",
    "    d = []\n",
    "\n",
    "    a.append(0)\n",
    "    b.append(1)\n",
    "    c.append(0)\n",
    "\n",
    "    for i in range(1, n):\n",
    "        a.append(1)\n",
    "        b.append(-2)\n",
    "        c.append(1)\n",
    "    \n",
    "    a.append(0)\n",
    "    b.append(1)\n",
    "    c.append(0)\n",
    "    \n",
    "    d = []\n",
    "    x = []\n",
    "\n",
    "    d.append(y_0)\n",
    "    x.append(x_0)\n",
    "\n",
    "    for i in range(1,n):\n",
    "        x_i = x_0 + h*i\n",
    "        d.append(h*h*f(x_i))\n",
    "        x.append(x_i)\n",
    "\n",
    "    d.append(y_n)\n",
    "    x.append(x_n)\n",
    "    \n",
    "    A = [a, b, c]\n",
    "    \n",
    "    return A, d, x"
   ]
  },
  {
   "cell_type": "markdown",
   "metadata": {},
   "source": [
    "Систему с трехдиагональной матрицей буду решать методом прогонки: \n",
    "\n",
    "Прямой ход метода исключения Гаусса сводится к исключению поддиагональных элементов $a_i$: \n",
    "\n",
    "$$\\xi \\leftarrow \\frac{a_i}{b_{i-1}}$$\n",
    "\n",
    "$$a_i \\leftarrow 0, \\;\\; b_i \\leftarrow b_i - \\xi c_{i-1}, \\;\\; d_i \\leftarrow d_i - \\xi d_{i-1}$$\n",
    "\n",
    "Обратный ход:\n",
    "\n",
    "$$x_n = \\frac{d_n}{b_n}$$\n",
    "\n",
    "$$x_i = \\frac{1}{b_i}(d_i - c_ix_{i+1}), \\;\\; i = n-1 ... 0$$"
   ]
  },
  {
   "cell_type": "code",
   "execution_count": 3,
   "metadata": {},
   "outputs": [],
   "source": [
    "def solve_3diag(A, d, n):\n",
    "    \n",
    "    # A = [a, b, c]\n",
    "    \n",
    "    d_new = d.copy()\n",
    "    b_new = A[1].copy()\n",
    "    c_new = A[2].copy()\n",
    "    a_new = A[0].copy()\n",
    "    \n",
    "    for i in range(1, n+1):\n",
    "        k = a_new[i] / b_new[i-1]\n",
    "        b_new[i] -= k*c_new[i-1]\n",
    "        d_new[i] -= k*d_new[i-1]\n",
    "    \n",
    "    y = [i for i in range(n+1)]\n",
    "    \n",
    "    y[n] = d_new[n]/b_new[n]\n",
    "    \n",
    "    for i in range(n-1, -1, -1):\n",
    "        y[i] = (d_new[i] - c_new[i]*y[i+1])/b_new[i]\n",
    "        \n",
    "    return y"
   ]
  },
  {
   "cell_type": "markdown",
   "metadata": {},
   "source": [
    "### Аналитическое решение\n",
    "\n",
    "$$y(x) = -\\sin{x} + C_1 x + C_2,$$\n",
    "\n",
    "где $C_1, \\; C_2$ - некоторые константы интегрирования.\n",
    "\n",
    "Из граничных условий:\n",
    "\n",
    "$$C_1 = \\frac{y(x_0) - y(x_n) + \\sin(x_0) - \\sin(x_n)}{x_0 - x_n}$$\n",
    "\n",
    "$$C_2 = y(x_0) + \\sin(x_0) - C_1 x_0$$"
   ]
  },
  {
   "cell_type": "code",
   "execution_count": 4,
   "metadata": {},
   "outputs": [],
   "source": [
    "def solution(x, x_0, x_n, y_0, y_n):\n",
    "    c1 = (y_0 - y_n + math.sin(x_0) - math.sin(x_n))/(x_0 - x_n)\n",
    "    c2 = y_0 + math.sin(x_0) - c1*x_0\n",
    "    \n",
    "    return -1*math.sin(x) + c1*x + c2"
   ]
  },
  {
   "cell_type": "markdown",
   "metadata": {},
   "source": [
    "### Вычисления"
   ]
  },
  {
   "cell_type": "markdown",
   "metadata": {},
   "source": [
    "Задам промежуток и граничные условия:"
   ]
  },
  {
   "cell_type": "code",
   "execution_count": 5,
   "metadata": {},
   "outputs": [],
   "source": [
    "y_0 = 0\n",
    "y_n = 2*math.pi\n",
    "\n",
    "x_0 = -2*math.pi\n",
    "x_n = 2*math.pi"
   ]
  },
  {
   "cell_type": "markdown",
   "metadata": {},
   "source": [
    "Функция в правой части: "
   ]
  },
  {
   "cell_type": "code",
   "execution_count": 6,
   "metadata": {},
   "outputs": [],
   "source": [
    "def f(x):\n",
    "    return math.sin(x)"
   ]
  },
  {
   "cell_type": "markdown",
   "metadata": {},
   "source": [
    "Количество интервалов разбиения и шаг:"
   ]
  },
  {
   "cell_type": "code",
   "execution_count": 7,
   "metadata": {},
   "outputs": [],
   "source": [
    "n = 40\n",
    "\n",
    "h = (x_n - x_0)/n"
   ]
  },
  {
   "cell_type": "code",
   "execution_count": 8,
   "metadata": {},
   "outputs": [],
   "source": [
    "A, d, x = make_system(n, x_0, x_n, y_0, y_n)\n",
    "y = solve_3diag(A, d, n)\n",
    "y_sol = [solution(x_i, x_0, x_n, y_0, y_n) for x_i in x]"
   ]
  },
  {
   "cell_type": "markdown",
   "metadata": {},
   "source": [
    "### График"
   ]
  },
  {
   "cell_type": "code",
   "execution_count": 9,
   "metadata": {
    "scrolled": true
   },
   "outputs": [
    {
     "data": {
      "image/png": "[encoded data removed]",
      "text/plain": [
       "<Figure size 432x288 with 1 Axes>"
      ]
     },
     "metadata": {
      "needs_background": "light"
     },
     "output_type": "display_data"
    }
   ],
   "source": [
    "plt.plot(x, y, 'bo', label=\"y(x)\")\n",
    "plt.plot(x, y_sol, 'r+', label=\"y(x) analytical\")\n",
    "plt.grid()\n",
    "plt.xlabel('x')\n",
    "plt.title('y(x)')\n",
    "plt.legend()\n",
    "plt.show()"
   ]
  },
  {
   "cell_type": "markdown",
   "metadata": {},
   "source": [
    "**Ошибки:**\n",
    "\n",
    "Посморю модуль разности значений решения методом прогонки и аналитического решения"
   ]
  },
  {
   "cell_type": "code",
   "execution_count": 10,
   "metadata": {},
   "outputs": [],
   "source": [
    "err = [abs((y[0:][i] - y_sol[0:][i])) for i in range(len(x[0:]))]"
   ]
  },
  {
   "cell_type": "code",
   "execution_count": 11,
   "metadata": {},
   "outputs": [
    {
     "data": {
      "image/png": "[encoded data removed]",
      "text/plain": [
       "<Figure size 432x288 with 1 Axes>"
      ]
     },
     "metadata": {
      "needs_background": "light"
     },
     "output_type": "display_data"
    }
   ],
   "source": [
    "plt.plot(x[0:], err, 'm+', label=\"|y - y_sol|\")\n",
    "plt.grid()\n",
    "plt.xlabel('x')\n",
    "plt.ylabel('|y - y_sol|')\n",
    "plt.title('Ошибки')\n",
    "#plt.legend()\n",
    "plt.yscale(\"log\")\n",
    "plt.show()"
   ]
  },
  {
   "cell_type": "code",
   "execution_count": 12,
   "metadata": {},
   "outputs": [
    {
     "data": {
      "text/plain": [
       "0.0"
      ]
     },
     "execution_count": 12,
     "metadata": {},
     "output_type": "execute_result"
    }
   ],
   "source": [
    "min(err)"
   ]
  },
  {
   "cell_type": "code",
   "execution_count": 13,
   "metadata": {},
   "outputs": [],
   "source": [
    "err_d = {}\n",
    "for i in range(len(x)):\n",
    "    err_d[x[i]] = err[i]"
   ]
  },
  {
   "cell_type": "code",
   "execution_count": 14,
   "metadata": {},
   "outputs": [
    {
     "data": {
      "text/plain": [
       "{-6.283185307179586: 0.0,\n",
       " -5.969026041820607: 0.002554154308159584,\n",
       " -5.654866776461628: 0.004858290196796955,\n",
       " -5.340707511102648: 0.006686862791273729,\n",
       " -5.026548245743669: 0.007860878665628124,\n",
       " -4.71238898038469: 0.008265416966228623,\n",
       " -4.39822971502571: 0.007860878665628013,\n",
       " -4.084070449666731: 0.006686862791273618,\n",
       " -3.7699111843077517: 0.004858290196796733,\n",
       " -3.4557519189487724: 0.0025541543081593066,\n",
       " -3.141592653589793: 3.1018215248310763e-16,\n",
       " -2.827433388230814: 0.002554154308159917,\n",
       " -2.5132741228718345: 0.004858290196797288,\n",
       " -2.199114857512855: 0.006686862791274062,\n",
       " -1.8849555921538759: 0.007860878665628124,\n",
       " -1.5707963267948966: 0.008265416966228623,\n",
       " -1.2566370614359172: 0.007860878665628124,\n",
       " -0.9424777960769379: 0.00668686279127384,\n",
       " -0.6283185307179586: 0.004858290196797066,\n",
       " -0.3141592653589793: 0.002554154308159584,\n",
       " 0.0: 0.0,\n",
       " 0.3141592653589793: 0.002554154308159584,\n",
       " 0.6283185307179586: 0.004858290196796955,\n",
       " 0.9424777960769379: 0.006686862791273729,\n",
       " 1.2566370614359172: 0.007860878665628124,\n",
       " 1.5707963267948966: 0.0082654169662284,\n",
       " 1.8849555921538759: 0.00786087866562779,\n",
       " 2.199114857512855: 0.006686862791273507,\n",
       " 2.5132741228718345: 0.004858290196796511,\n",
       " 2.827433388230814: 0.0025541543081590845,\n",
       " 3.141592653589793: 5.135317044968471e-16,\n",
       " 3.4557519189487724: 0.0025541543081600837,\n",
       " 3.7699111843077517: 0.00485829019679751,\n",
       " 4.084070449666731: 0.006686862791274173,\n",
       " 4.39822971502571: 0.007860878665628457,\n",
       " 4.71238898038469: 0.008265416966228845,\n",
       " 5.026548245743669: 0.007860878665628457,\n",
       " 5.340707511102648: 0.006686862791274173,\n",
       " 5.654866776461628: 0.004858290196797177,\n",
       " 5.969026041820607: 0.0025541543081596396,\n",
       " 6.283185307179586: 0.0}"
      ]
     },
     "execution_count": 14,
     "metadata": {},
     "output_type": "execute_result"
    }
   ],
   "source": [
    "err_d"
   ]
  },
  {
   "cell_type": "code",
   "execution_count": null,
   "metadata": {},
   "outputs": [],
   "source": []
  }
 ],
 "metadata": {
  "kernelspec": {
   "display_name": "Python 3",
   "language": "python",
   "name": "python3"
  },
  "language_info": {
   "codemirror_mode": {
    "name": "ipython",
    "version": 3
   },
   "file_extension": ".py",
   "mimetype": "text/x-python",
   "name": "python",
   "nbconvert_exporter": "python",
   "pygments_lexer": "ipython3",
   "version": "3.7.3"
  }
 },
 "nbformat": 4,
 "nbformat_minor": 4
}
