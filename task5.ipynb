{
 "cells": [
  {
   "cell_type": "markdown",
   "metadata": {},
   "source": [
    "# Задача 5\n",
    "\n",
    "Провести интерполяционный полином $P_n(x)$ через точки \n",
    "\n",
    "$$ x_k = 1 + \\frac{k}{n}, y_k = \\ln{x_k}, k = 0, ....,n. $$\n",
    "\n",
    "при $n = 4, ..., 15$. Нарисовать графики  $P_n(x) - \\ln{x}$"
   ]
  },
  {
   "cell_type": "code",
   "execution_count": 1,
   "metadata": {},
   "outputs": [],
   "source": [
    "from time import time\n",
    "import numpy as np\n",
    "import matplotlib.pyplot as plt\n",
    "import math"
   ]
  },
  {
   "cell_type": "markdown",
   "metadata": {},
   "source": [
    "Задам функцию, которую буду аппроксимировать."
   ]
  },
  {
   "cell_type": "code",
   "execution_count": 2,
   "metadata": {},
   "outputs": [],
   "source": [
    "def y(xk):\n",
    "    return [math.log(i) for i in xk]"
   ]
  },
  {
   "cell_type": "markdown",
   "metadata": {},
   "source": [
    "Задам функции для вычисления точек."
   ]
  },
  {
   "cell_type": "code",
   "execution_count": 3,
   "metadata": {},
   "outputs": [],
   "source": [
    "def x(n):\n",
    "    xk = []\n",
    "    for k in range(0, n + 1, 1):\n",
    "        xk.append(1 + float(k) / n)\n",
    "    return xk"
   ]
  },
  {
   "cell_type": "code",
   "execution_count": 4,
   "metadata": {},
   "outputs": [],
   "source": [
    "n = 50\n",
    "X = np.arange(1, 2.01, 0.01)\n",
    "P_Lag = []\n",
    "P_New = []\n",
    "Ln = [math.log(i) for i in X]"
   ]
  },
  {
   "cell_type": "markdown",
   "metadata": {},
   "source": [
    "### 1. Полиномы Лагранжа\n",
    "\n",
    "$$l_i(x) = \\prod_{0 \\leq j \\leq n, j \\neq i}{(x-x_j)}$$\n",
    "\n",
    "$$ P_n(x) = \\sum_{i = 0}^{n}{y(x_i) \\cdot \\frac{l_i(x)}{l_i(x_i)}} $$\n",
    "\n",
    "Время вычисления $P_n(x)$ для одного $x$: $\\approx \\mathcal{O}(n_2)$"
   ]
  },
  {
   "cell_type": "markdown",
   "metadata": {},
   "source": [
    "Определю функции для вычисления полиномов Лагранжа:"
   ]
  },
  {
   "cell_type": "code",
   "execution_count": 5,
   "metadata": {},
   "outputs": [],
   "source": [
    "def l(x, xk, i, n):\n",
    "    l = 1\n",
    "    for j in range(0, n + 1):\n",
    "        if j == i:\n",
    "            continue\n",
    "        l *= (x - xk[j])\n",
    "    return l"
   ]
  },
  {
   "cell_type": "code",
   "execution_count": 6,
   "metadata": {},
   "outputs": [],
   "source": [
    "def Lagrange(x, xk, n):\n",
    "    P = 0\n",
    "    lx = []\n",
    "    lk = []\n",
    "    yk = y(xk)\n",
    "    for i in range(0, n + 1):\n",
    "        lx.append(l(x, xk, i, n))\n",
    "    for i in range(0, n + 1):\n",
    "        lk.append(l(xk[i], xk, i, n))\n",
    "    for i in range(0, n + 1):\n",
    "        P += yk[i] * lx[i] / lk[i]\n",
    "    return P"
   ]
  },
  {
   "cell_type": "code",
   "execution_count": 7,
   "metadata": {},
   "outputs": [
    {
     "name": "stdout",
     "output_type": "stream",
     "text": [
      "3.1950998306274414\n"
     ]
    }
   ],
   "source": [
    "start = time()\n",
    "for i in range(4, n + 1):\n",
    "    P_Lag.append([Lagrange(j, x(i), i) for j in X])\n",
    "\n",
    "\n",
    "eps_L = []\n",
    "for i in range(n - 3):\n",
    "    eps_L.append([(P_Lag[i][j] - Ln[j]) for j in range(0, len(X))])\n",
    "print(time()-start)"
   ]
  },
  {
   "cell_type": "markdown",
   "metadata": {},
   "source": [
    "### 2. Полиномы Ньютона\n",
    "\n",
    "$$P(x) = P(x_0) + \\sum_{k=1}^{n}P(x_0, x_1, ..., x_k)\\prod_{j=0}^{k-1}(x - x_j)$$\n",
    "\n",
    "Разделенные разности для полиномов $P(x_0, x_1, ..., x_k)$ совпадают с разделенными разностями для интерполируемой функции $y(x)$ поскольку $P(x_i) = y(x_i)$. Следовательно интерполяционный полином: \n",
    "\n",
    "$$P(x) = y(x_0) + \\sum_{k=1}^{n}y(x_0, x_1, ..., x_k)\\prod_{j=0}^{k-1}(x - x_j)$$\n",
    "\n",
    "A разделенная разность представима в виде \n",
    "\n",
    "$$y(x_0, x_1, ...., x_k) = \\sum_{i=0}^{k}{\\frac{y(x_i)}{\\prod_{j\\neq i}{(x_i - x_j)}}}$$"
   ]
  },
  {
   "cell_type": "markdown",
   "metadata": {},
   "source": [
    "Определю метод для вычисления разделенных сумм и заранее \"заготовлю\" все необходимые разделенные суммы для вычисления полиномов Ньютона для заданных $n$."
   ]
  },
  {
   "cell_type": "markdown",
   "metadata": {},
   "source": [
    "Определю функцию для вычисления полиномов Ньютона:"
   ]
  },
  {
   "cell_type": "code",
   "execution_count": 8,
   "metadata": {},
   "outputs": [],
   "source": [
    "def divided_difference(xk, k):\n",
    "    Y = [xk, y(xk)]\n",
    "    n = 0\n",
    "    for i in range(2, k + 2):\n",
    "        try:\n",
    "            Y.append(\n",
    "                [(Y[i - 1][j] - Y[i - 1][j + 1]) / (Y[0][j] - Y[0][j + 1 + n]) for j in range(0, len(Y[i - 1]) - 1)])\n",
    "        except IndexError:\n",
    "            n += 1\n",
    "            continue\n",
    "        n += 1\n",
    "    return Y"
   ]
  },
  {
   "cell_type": "code",
   "execution_count": 9,
   "metadata": {},
   "outputs": [],
   "source": [
    "def Newton(x, xk, n):\n",
    "    Y = divided_difference(xk, n)\n",
    "    P = Y[1][0]\n",
    "    X = 1\n",
    "    for k in range(1, n + 1):\n",
    "        for j in range(0, k):\n",
    "            X *= (x - xk[j])\n",
    "        P += X * Y[k + 1][0]\n",
    "        X = 1\n",
    "    return P"
   ]
  },
  {
   "cell_type": "code",
   "execution_count": 10,
   "metadata": {},
   "outputs": [
    {
     "name": "stdout",
     "output_type": "stream",
     "text": [
      "2.9412806034088135\n"
     ]
    }
   ],
   "source": [
    "start = time()\n",
    "eps_N = []\n",
    "for i in range(4, n + 1):\n",
    "    P_New.append([Newton(j, x(i), i) for j in X])\n",
    "\n",
    "\n",
    "for i in range(n - 3):\n",
    "    eps_N.append([(P_New[i][j] - Ln[j]) for j in range(0, len(X))])\n",
    "print(time()-start)"
   ]
  },
  {
   "cell_type": "markdown",
   "metadata": {},
   "source": [
    "### 3. Графики"
   ]
  },
  {
   "cell_type": "code",
   "execution_count": 11,
   "metadata": {},
   "outputs": [
    {
     "data": {
      "image/png": "[encoded data removed]",
      "text/plain": [
       "<Figure size 432x288 with 2 Axes>"
      ]
     },
     "metadata": {
      "needs_background": "light"
     },
     "output_type": "display_data"
    }
   ],
   "source": [
    "eps = []\n",
    "for j in range(n - 3):\n",
    "    eps.append([abs(eps_N[j][i]) - abs(eps_L[j][i]) for i in range(len(eps_N[j]))])\n",
    "\n",
    "fig, axes = plt.subplots(1, 2)\n",
    "Xk = x(n)\n",
    "Yk = y(Xk)\n",
    "axes[0].plot(X, P_New[n - 4])\n",
    "axes[0].plot(Xk, Yk, 'ro')\n",
    "axes[1].plot(X, P_Lag[n - 4])\n",
    "axes[1].plot(Xk, Yk, 'bo')\n",
    "plt.show()"
   ]
  },
  {
   "cell_type": "code",
   "execution_count": null,
   "metadata": {},
   "outputs": [],
   "source": []
  }
 ],
 "metadata": {
  "kernelspec": {
   "display_name": "Python 3",
   "language": "python",
   "name": "python3"
  },
  "language_info": {
   "codemirror_mode": {
    "name": "ipython",
    "version": 3
   },
   "file_extension": ".py",
   "mimetype": "text/x-python",
   "name": "python",
   "nbconvert_exporter": "python",
   "pygments_lexer": "ipython3",
   "version": "3.7.3"
  }
 },
 "nbformat": 4,
 "nbformat_minor": 4
}
