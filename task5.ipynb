{
 "cells": [
  {
   "cell_type": "markdown",
   "metadata": {},
   "source": [
    "# Задача 5\n",
    "\n",
    "Провести интерполяционный полином $P_n(x)$ через точки \n",
    "\n",
    "$$ x_k = 1 + \\frac{k}{n}, y_k = \\ln{x_k}, k = 0, ....,n. $$\n",
    "\n",
    "при $n = 4, ..., 15$. Нарисовать графики  $P_n(x) - \\ln{x}$"
   ]
  },
  {
   "cell_type": "code",
   "execution_count": 1,
   "metadata": {},
   "outputs": [],
   "source": [
    "n_min = 4\n",
    "n_max = 50"
   ]
  },
  {
   "cell_type": "code",
   "execution_count": 2,
   "metadata": {},
   "outputs": [],
   "source": [
    "import math"
   ]
  },
  {
   "cell_type": "markdown",
   "metadata": {},
   "source": [
    "Задаем функцию, которую будем аппроксимировать."
   ]
  },
  {
   "cell_type": "code",
   "execution_count": 3,
   "metadata": {},
   "outputs": [],
   "source": [
    "def func(x):\n",
    "    return math.log(x)"
   ]
  },
  {
   "cell_type": "markdown",
   "metadata": {},
   "source": [
    "Задаем функции для вычисления точек."
   ]
  },
  {
   "cell_type": "code",
   "execution_count": 4,
   "metadata": {},
   "outputs": [],
   "source": [
    "def x_k(k, n):\n",
    "    return 1 + k/n\n",
    "\n",
    "def y_k(k, n):\n",
    "    return func(x_k(k, n))"
   ]
  },
  {
   "cell_type": "markdown",
   "metadata": {},
   "source": [
    "### 1. Полиномы Лагранжа\n",
    "\n",
    "$$l_i(x) = \\prod_{0 \\leq j \\leq n, j \\neq i}{(x-x_j)}$$\n",
    "\n",
    "$$ P_n(x) = \\sum_{i = 0}^{n}{y(x_i) \\cdot \\frac{l_i(x)}{l_i(x_i)}} $$\n",
    "\n",
    "Время вычисления $P_n(x)$ для одного $x$: $\\approx \\mathcal{O}(n_2)$"
   ]
  },
  {
   "cell_type": "markdown",
   "metadata": {},
   "source": [
    "Определю функции для вычисления полиномов Лагранжа:"
   ]
  },
  {
   "cell_type": "code",
   "execution_count": 5,
   "metadata": {},
   "outputs": [],
   "source": [
    "def l_i(i, x, n):\n",
    "    l = 1\n",
    "    for k in range(n+1):\n",
    "        if(k != i):\n",
    "            l = l*(x - x_k(k, n))\n",
    "    return l"
   ]
  },
  {
   "cell_type": "code",
   "execution_count": 6,
   "metadata": {},
   "outputs": [],
   "source": [
    "def P_lagrange(x, n):\n",
    "    pol = 0.\n",
    "    for i in range(n+1):\n",
    "        pol += y_k(i, n)*l_i(i, x, n) / l_i(i, x_k(i, n), n)\n",
    "    return pol"
   ]
  },
  {
   "cell_type": "markdown",
   "metadata": {},
   "source": [
    "Для каждого n беру шаг $h = \\frac{x_n - x_0}{20}$ и вычисляю полином Лагранжа в точках $x_i = x_0 + h*i$ для $i = 1...20$ при том, что для всех $n$ $x_0 = 1$. (А $x_n = 2$).\n",
    "\n",
    "В общем, шаг $h = \\frac{1}{20}$\n",
    "\n",
    "Сохраняю для каждого $n = 4...15$ все $x_i$ и соответствующие им ошибки $P_n(x_i) - \\ln{x_i}$. "
   ]
  },
  {
   "cell_type": "code",
   "execution_count": 7,
   "metadata": {},
   "outputs": [],
   "source": [
    "res_n_lagrange = dict()\n",
    "for n in range(n_min, n_max+1):\n",
    "    err_x = []\n",
    "    err_val = []\n",
    "    h = 1/20\n",
    "    for i in range(1, 21):\n",
    "        x = 1 + h*i\n",
    "        err_x.append(x)\n",
    "        err = abs(P_lagrange(x, n) - func(x))\n",
    "        err_val.append(err)\n",
    "    res_n_lagrange[n] = [err_x, err_val]  "
   ]
  },
  {
   "cell_type": "markdown",
   "metadata": {},
   "source": [
    "Проверка в точках $x_k = 1 + \\frac{k}{n}$:"
   ]
  },
  {
   "cell_type": "code",
   "execution_count": 8,
   "metadata": {},
   "outputs": [],
   "source": [
    "res_n_lagrange_k = dict()\n",
    "for n in range(n_min, n_max+1):\n",
    "    err_x = []\n",
    "    err_val = []\n",
    "    for k in range(n+1):\n",
    "        x = x_k(k, n)\n",
    "        err_x.append(x)\n",
    "        err = abs(P_lagrange(x, n) - func(x))\n",
    "        err_val.append(err)\n",
    "    res_n_lagrange_k[n] = [err_x, err_val]        "
   ]
  },
  {
   "cell_type": "markdown",
   "metadata": {},
   "source": [
    "### 2. Полиномы Ньютона\n",
    "\n",
    "$$P(x) = P(x_0) + \\sum_{k=1}^{n}P(x_0, x_1, ..., x_k)\\prod_{j=0}^{k-1}(x - x_j)$$\n",
    "\n",
    "Разделенные разности для полиномов $P(x_0, x_1, ..., x_k)$ совпадают с разделенными разностями для интерполируемой функции $y(x)$ поскольку $P(x_i) = y(x_i)$. Следовательно интерполяционный полином: \n",
    "\n",
    "$$P(x) = y(x_0) + \\sum_{k=1}^{n}y(x_0, x_1, ..., x_k)\\prod_{j=0}^{k-1}(x - x_j)$$\n",
    "\n",
    "A разделенная разность представима в виде \n",
    "\n",
    "$$y(x_0, x_1, ...., x_k) = \\sum_{i=0}^{k}{\\frac{y(x_i)}{\\prod_{j\\neq i}{(x_i - x_j)}}}$$"
   ]
  },
  {
   "cell_type": "markdown",
   "metadata": {},
   "source": [
    "Определю метод для вычисления разделенных сумм и заранее \"заготовлю\" все необходимые разделенные суммы для вычисления полиномов Ньютона для заданных $n$."
   ]
  },
  {
   "cell_type": "markdown",
   "metadata": {},
   "source": [
    "Определю функцию для вычисления полиномов Ньютона:"
   ]
  },
  {
   "cell_type": "code",
   "execution_count": 9,
   "metadata": {},
   "outputs": [],
   "source": [
    "def P_newton(x, n):\n",
    "    a = []\n",
    "    for i in range(0, n+1):\n",
    "        a.append(y_k(i, n))\n",
    "        for j in range(0, i):\n",
    "            a[i] = (a[i] - a[j]) / (x_k(i, n) - x_k(j, n))\n",
    "    res = a[n]\n",
    "    for i in range(n-1, -1, -1):\n",
    "        res = res * (x - x_k(i, n)) + a[i]\n",
    "    return res"
   ]
  },
  {
   "cell_type": "markdown",
   "metadata": {},
   "source": [
    "Вычисляю полином в точках $x_i = x_0 + h*i$ для $i = 1...20$ при том, что для всех $n$ $x_0 = 1$. (А $x_n = 2$).\n",
    "\n",
    "Шаг $h = \\frac{1}{20}$\n",
    "\n",
    "Сохраняю для каждого $n = 4...15$ все $x_i$ и соответствующие им ошибки $P_n(x_i) - \\ln{x_i}$. "
   ]
  },
  {
   "cell_type": "code",
   "execution_count": 10,
   "metadata": {},
   "outputs": [],
   "source": [
    "res_n_newton = dict()\n",
    "for n in range(n_min, n_max+1):\n",
    "    err_x = []\n",
    "    err_val = []\n",
    "    h = 1/20\n",
    "    for i in range(1, 21):\n",
    "        x = 1 + h*i\n",
    "        err_x.append(x)\n",
    "        err = abs(P_newton(x, n) - func(x))\n",
    "        err_val.append(err)\n",
    "    res_n_newton[n] = [err_x, err_val]        "
   ]
  },
  {
   "cell_type": "markdown",
   "metadata": {},
   "source": [
    "Проверка в точках $x_k = 1 + \\frac{k}{n}$:"
   ]
  },
  {
   "cell_type": "code",
   "execution_count": 11,
   "metadata": {},
   "outputs": [],
   "source": [
    "res_n_newton_k = dict()\n",
    "for n in range(n_min, n_max+1):\n",
    "    err_x = []\n",
    "    err_val = []\n",
    "    h = 1/20\n",
    "    for k in range(n+1):\n",
    "        x = 1 + x_k(k, n)\n",
    "        err_x.append(x)\n",
    "        err = abs(P_newton(x, n) - func(x))\n",
    "        err_val.append(err)\n",
    "    res_n_newton_k[n] = [err_x, err_val]   "
   ]
  },
  {
   "cell_type": "markdown",
   "metadata": {},
   "source": [
    "### 3. Графики"
   ]
  },
  {
   "cell_type": "code",
   "execution_count": 12,
   "metadata": {},
   "outputs": [],
   "source": [
    "import matplotlib.pyplot as plt"
   ]
  },
  {
   "cell_type": "code",
   "execution_count": 13,
   "metadata": {},
   "outputs": [
    {
     "data": {
      "text/plain": [
       "[1.05,\n",
       " 1.1,\n",
       " 1.15,\n",
       " 1.2,\n",
       " 1.25,\n",
       " 1.3,\n",
       " 1.35,\n",
       " 1.4,\n",
       " 1.45,\n",
       " 1.5,\n",
       " 1.55,\n",
       " 1.6,\n",
       " 1.65,\n",
       " 1.7000000000000002,\n",
       " 1.75,\n",
       " 1.8,\n",
       " 1.85,\n",
       " 1.9,\n",
       " 1.9500000000000002,\n",
       " 2.0]"
      ]
     },
     "execution_count": 13,
     "metadata": {},
     "output_type": "execute_result"
    }
   ],
   "source": [
    "n = 15\n",
    "res_n_lagrange[n][0]"
   ]
  },
  {
   "cell_type": "code",
   "execution_count": 14,
   "metadata": {},
   "outputs": [
    {
     "data": {
      "text/plain": [
       "[9.66213220543466e-13,\n",
       " 2.579186864082317e-13,\n",
       " 4.707345624410664e-14,\n",
       " 2.7755575615628914e-17,\n",
       " 6.467049118441537e-15,\n",
       " 4.440892098500626e-15,\n",
       " 1.7763568394002505e-15,\n",
       " 0.0,\n",
       " 8.881784197001252e-16,\n",
       " 1.2212453270876722e-15,\n",
       " 9.43689570931383e-16,\n",
       " 0.0,\n",
       " 1.6653345369377348e-15,\n",
       " 3.552713678800501e-15,\n",
       " 4.551914400963142e-15,\n",
       " 0.0,\n",
       " 3.019806626980426e-14,\n",
       " 1.5487611193520934e-13,\n",
       " 5.402345237826012e-13,\n",
       " 0.0]"
      ]
     },
     "execution_count": 14,
     "metadata": {},
     "output_type": "execute_result"
    }
   ],
   "source": [
    "res_n_lagrange[n][1]"
   ]
  },
  {
   "cell_type": "markdown",
   "metadata": {},
   "source": [
    "##### Зависимость ошибки $P(x) - ln(x)$ от $x$ для обоих полиномов при $n = 15$"
   ]
  },
  {
   "cell_type": "code",
   "execution_count": 15,
   "metadata": {},
   "outputs": [
    {
     "data": {
      "text/plain": [
       "[1.05,\n",
       " 1.1,\n",
       " 1.15,\n",
       " 1.2,\n",
       " 1.25,\n",
       " 1.3,\n",
       " 1.35,\n",
       " 1.4,\n",
       " 1.45,\n",
       " 1.5,\n",
       " 1.55,\n",
       " 1.6,\n",
       " 1.65,\n",
       " 1.7000000000000002,\n",
       " 1.75,\n",
       " 1.8,\n",
       " 1.85,\n",
       " 1.9,\n",
       " 1.9500000000000002,\n",
       " 2.0]"
      ]
     },
     "execution_count": 15,
     "metadata": {},
     "output_type": "execute_result"
    }
   ],
   "source": [
    "res_n_newton[n][0]"
   ]
  },
  {
   "cell_type": "code",
   "execution_count": 16,
   "metadata": {},
   "outputs": [
    {
     "data": {
      "text/plain": [
       "[9.72409652799655e-13,\n",
       " 2.5809909764973327e-13,\n",
       " 4.7351012000262926e-14,\n",
       " 0.0,\n",
       " 6.439293542825908e-15,\n",
       " 4.496403249731884e-15,\n",
       " 1.8318679906315083e-15,\n",
       " 0.0,\n",
       " 9.992007221626409e-16,\n",
       " 1.2212453270876722e-15,\n",
       " 9.43689570931383e-16,\n",
       " 5.551115123125783e-17,\n",
       " 1.5543122344752192e-15,\n",
       " 3.552713678800501e-15,\n",
       " 4.6629367034256575e-15,\n",
       " 0.0,\n",
       " 3.008704396734174e-14,\n",
       " 1.5365486660812167e-13,\n",
       " 5.413447468072263e-13,\n",
       " 0.0]"
      ]
     },
     "execution_count": 16,
     "metadata": {},
     "output_type": "execute_result"
    }
   ],
   "source": [
    "res_n_newton[n][1]"
   ]
  },
  {
   "cell_type": "code",
   "execution_count": 17,
   "metadata": {},
   "outputs": [
    {
     "data": {
      "text/plain": [
       "0.1823215567939546"
      ]
     },
     "execution_count": 17,
     "metadata": {},
     "output_type": "execute_result"
    }
   ],
   "source": [
    "xper = P_newton(1.2, n)\n",
    "xper"
   ]
  },
  {
   "cell_type": "markdown",
   "metadata": {},
   "source": [
    "*В точках $x_i \\neq x_k$*"
   ]
  },
  {
   "cell_type": "code",
   "execution_count": 18,
   "metadata": {},
   "outputs": [
    {
     "data": {
      "text/plain": [
       "0.1823215567939546"
      ]
     },
     "execution_count": 18,
     "metadata": {},
     "output_type": "execute_result"
    }
   ],
   "source": [
    "xper2 = func(1.2)\n",
    "xper2"
   ]
  },
  {
   "cell_type": "code",
   "execution_count": 19,
   "metadata": {},
   "outputs": [
    {
     "name": "stdout",
     "output_type": "stream",
     "text": [
      "n =  50\n"
     ]
    },
    {
     "data": {
      "image/png": "[encoded data removed]",
      "text/plain": [
       "<Figure size 432x288 with 1 Axes>"
      ]
     },
     "metadata": {
      "needs_background": "light"
     },
     "output_type": "display_data"
    }
   ],
   "source": [
    "print('n = ', n_max)\n",
    "plt.plot(res_n_lagrange[n][0], res_n_lagrange[n][1], 'bo', label = 'Лагранж')\n",
    "plt.plot(res_n_newton[n][0], res_n_newton[n][1],'r+', label = 'Ньютон')\n",
    "plt.grid()\n",
    "plt.xlabel('x')\n",
    "plt.ylabel('P(x) - ln(x)')\n",
    "plt.title('Зависимость ошибки от x')\n",
    "plt.legend()\n",
    "plt.yscale(\"log\")\n",
    "plt.show()"
   ]
  },
  {
   "cell_type": "markdown",
   "metadata": {},
   "source": [
    "*В точках $x_k = 1 + \\frac{k}{n}$:*"
   ]
  },
  {
   "cell_type": "code",
   "execution_count": 20,
   "metadata": {},
   "outputs": [
    {
     "name": "stdout",
     "output_type": "stream",
     "text": [
      "n =  15\n"
     ]
    },
    {
     "data": {
      "image/png": "[encoded data removed]",
      "text/plain": [
       "<Figure size 432x288 with 1 Axes>"
      ]
     },
     "metadata": {
      "needs_background": "light"
     },
     "output_type": "display_data"
    }
   ],
   "source": [
    "print('n = ', n)\n",
    "plt.plot(res_n_lagrange_k[n][0], res_n_lagrange_k[n][1], 'bo', label = 'Лагранж')\n",
    "plt.plot(res_n_newton_k[n][0], res_n_newton_k[n][1], 'r+', label = 'Ньютон')\n",
    "plt.grid()\n",
    "plt.xlabel('x')\n",
    "plt.ylabel('P(x) - ln(x)')\n",
    "plt.title('Зависимость ошибки от x')\n",
    "plt.legend()\n",
    "plt.yscale(\"log\")\n",
    "plt.show()"
   ]
  },
  {
   "cell_type": "markdown",
   "metadata": {},
   "source": [
    "##### Зависимость средней ошибки $P(x) - ln(x)$ от $n$ для обоих полиномов"
   ]
  },
  {
   "cell_type": "markdown",
   "metadata": {},
   "source": [
    "*В точках $x_i \\neq x_k$*"
   ]
  },
  {
   "cell_type": "code",
   "execution_count": 21,
   "metadata": {},
   "outputs": [
    {
     "data": {
      "image/png": "[encoded data removed]",
      "text/plain": [
       "<Figure size 432x288 with 1 Axes>"
      ]
     },
     "metadata": {
      "needs_background": "light"
     },
     "output_type": "display_data"
    }
   ],
   "source": [
    "plt.plot([n for n in range(n_min, n_max+1)], [sum(res_n_lagrange[n][1])/len(res_n_lagrange[n][1]) for n in range(n_min, n_max+1)], 'bo', label = 'Лагранж')\n",
    "plt.plot([n for n in range(n_min, n_max+1)], [sum(res_n_newton[n][1])/len(res_n_newton[n][1]) for n in range(n_min, n_max+1)], 'r+', label = 'Ньютон')\n",
    "plt.grid()\n",
    "plt.xlabel('n')\n",
    "plt.ylabel('P(x) - ln(x)')\n",
    "plt.title('Зависимость средней ошибки от n')\n",
    "plt.yscale(\"log\")\n",
    "plt.legend()\n",
    "plt.show()"
   ]
  },
  {
   "cell_type": "markdown",
   "metadata": {},
   "source": [
    "*В точках $x_k = 1 + \\frac{k}{n}$:*"
   ]
  },
  {
   "cell_type": "code",
   "execution_count": 22,
   "metadata": {},
   "outputs": [
    {
     "data": {
      "image/png": "[encoded data removed]",
      "text/plain": [
       "<Figure size 432x288 with 1 Axes>"
      ]
     },
     "metadata": {
      "needs_background": "light"
     },
     "output_type": "display_data"
    }
   ],
   "source": [
    "plt.plot([n for n in range(n_min, n_max+1)], [sum(res_n_lagrange_k[n][1])/len(res_n_lagrange_k[n][1]) for n in range(n_min, n_max+1)], 'bo', label = 'Лагранж')\n",
    "plt.plot([n for n in range(n_min, n_max+1)], [sum(res_n_newton_k[n][1])/len(res_n_newton_k[n][1]) for n in range(n_min, n_max+1)], 'r+', label = 'Ньютон')\n",
    "plt.grid()\n",
    "plt.xlabel('n')\n",
    "plt.ylabel('P(x) - ln(x)')\n",
    "plt.title('Зависимость средней ошибки от n')\n",
    "plt.yscale(\"log\")\n",
    "plt.legend()\n",
    "plt.show()"
   ]
  },
  {
   "cell_type": "code",
   "execution_count": null,
   "metadata": {},
   "outputs": [],
   "source": []
  }
 ],
 "metadata": {
  "kernelspec": {
   "display_name": "Python 3",
   "language": "python",
   "name": "python3"
  },
  "language_info": {
   "codemirror_mode": {
    "name": "ipython",
    "version": 3
   },
   "file_extension": ".py",
   "mimetype": "text/x-python",
   "name": "python",
   "nbconvert_exporter": "python",
   "pygments_lexer": "ipython3",
   "version": "3.7.3"
  }
 },
 "nbformat": 4,
 "nbformat_minor": 4
}
