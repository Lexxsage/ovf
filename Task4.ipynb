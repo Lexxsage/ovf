{
 "cells": [
  {
   "cell_type": "markdown",
   "metadata": {},
   "source": [
    "# Задача 4\n",
    "\n",
    "Используя интегральное представление для функций Бесселя целого индекса m:\n",
    "\n",
    "$$ J_m(x) = \\frac{1}{\\pi} \\int_0^{\\pi} \\cos{(mt - x \\sin{t})}dt $$\n",
    "\n",
    "и вычисляя производную с помощью конечной разности в тех же точках, что и сам интеграл, продемонстрировать выполнение равенства\n",
    "\n",
    "$$ J_0'(x) + J_1(x) = 0 $$\n",
    "\n",
    "с точностью не хуже $10^{-10}$ на отрезке $x \\in [0, 2\\pi]$"
   ]
  },
  {
   "cell_type": "code",
   "execution_count": 1,
   "metadata": {},
   "outputs": [
    {
     "name": "stdout",
     "output_type": "stream",
     "text": [
      "Requirement already satisfied: numpy in /home/alex/snap/jupyter/common/lib/python3.7/site-packages (1.21.2)\n",
      "Requirement already satisfied: matplotlib in /home/alex/snap/jupyter/common/lib/python3.7/site-packages (3.4.3)\n",
      "Requirement already satisfied: numpy>=1.16 in /home/alex/snap/jupyter/common/lib/python3.7/site-packages (from matplotlib) (1.21.2)\n",
      "Requirement already satisfied: pillow>=6.2.0 in /home/alex/snap/jupyter/common/lib/python3.7/site-packages (from matplotlib) (8.3.2)\n",
      "Requirement already satisfied: cycler>=0.10 in /home/alex/snap/jupyter/common/lib/python3.7/site-packages (from matplotlib) (0.10.0)\n",
      "Requirement already satisfied: kiwisolver>=1.0.1 in /home/alex/snap/jupyter/common/lib/python3.7/site-packages (from matplotlib) (1.3.2)\n",
      "Requirement already satisfied: python-dateutil>=2.7 in /snap/jupyter/6/lib/python3.7/site-packages (from matplotlib) (2.8.0)\n",
      "Requirement already satisfied: pyparsing>=2.2.1 in /home/alex/snap/jupyter/common/lib/python3.7/site-packages (from matplotlib) (2.4.7)\n",
      "Requirement already satisfied: six in /snap/jupyter/6/lib/python3.7/site-packages (from cycler>=0.10->matplotlib) (1.12.0)\n"
     ]
    }
   ],
   "source": [
    "import sys\n",
    "!{sys.executable} -m pip install numpy\n",
    "!{sys.executable} -m pip install matplotlib"
   ]
  },
  {
   "cell_type": "code",
   "execution_count": 2,
   "metadata": {},
   "outputs": [],
   "source": [
    "import numpy as np\n",
    "import matplotlib.pyplot as plt"
   ]
  },
  {
   "cell_type": "markdown",
   "metadata": {},
   "source": [
    "#### Задаем подынтегральную функцию, переделы, отрезок для x"
   ]
  },
  {
   "cell_type": "code",
   "execution_count": 3,
   "metadata": {},
   "outputs": [],
   "source": [
    "class Func:\n",
    "    def __init__(self):\n",
    "        self.x = 0.0\n",
    "        self.m = 1\n",
    "    \n",
    "    def set_x(self, x):\n",
    "        self.x = x\n",
    "        \n",
    "    def set_m(self, m):\n",
    "        self.m = m\n",
    "        \n",
    "    def func(self, t):\n",
    "        return np.cos(self.m*t - self.x*np.sin(t))"
   ]
  },
  {
   "cell_type": "code",
   "execution_count": 4,
   "metadata": {},
   "outputs": [],
   "source": [
    "t_l = 0 #нижний предел интегрирования\n",
    "t_h = np.pi #верхний предел\n",
    "\n",
    "#интервал по x\n",
    "x_l = 0\n",
    "x_h = 2*np.pi "
   ]
  },
  {
   "cell_type": "markdown",
   "metadata": {},
   "source": [
    "#### Определем функции для интегрирования (методом Симпсона)\n",
    "\n",
    "* f - подынтегральная функция\n",
    "* N - число интервалов разбиения\n",
    "* $[a, b]$ - отрезок интегрирования\n",
    "* h - ширина интервалов разбиения"
   ]
  },
  {
   "cell_type": "code",
   "execution_count": 5,
   "metadata": {},
   "outputs": [],
   "source": [
    "def simpson_method(f, N, a, b):\n",
    "    \n",
    "    h = (b - a)/N\n",
    "    S = 0\n",
    "    \n",
    "    f_xi = f(a) #f(x_i)\n",
    "    f_x2 = 0 # f((x_i + x_i+1)/2) - значение функции в середине отрезка\n",
    "    f_xi1 = 0 #f(x_i+1)\n",
    "    \n",
    "    for i in range (1, N+1):\n",
    "        f_x2 = f(a + (i-1/2)*h) #center\n",
    "        f_xi1 = f(a + i*h)\n",
    "        S += f_xi + 4*f_x2 + f_xi1\n",
    "        f_xi = f_xi1\n",
    "        \n",
    "    S = h*S\n",
    "    return S"
   ]
  },
  {
   "cell_type": "markdown",
   "metadata": {},
   "source": [
    "#### Нахождение производной методом конечной разности:\n",
    "\n",
    "$$ f'(a) = 1! \\cdot \\frac{f(a + h) - f(a - h)}{2h} $$\n",
    "\n",
    "\"Конечные разности нечётного порядка аппроксимируют значения соответствующих производных со вторым порядком точности в средней точке между центральными узлами сетки, тогда как аппроксимация в узлах имеет лишь первый порядок по $h$ . Как следствие, для аппроксимации производных нечётного порядка в узлах $x_i$, конечные разности выгодно вычислять на сетке с удвоенным шагом $2h$.\""
   ]
  },
  {
   "cell_type": "markdown",
   "metadata": {},
   "source": [
    "#### Считаем: \n",
    "\n",
    "Делим интервал для $x \\in [0, 2\\pi]$ на k интервалов. И будем проверять выполнение равенства в точках $ 0 = x_0, x_1, x_2 .... x_k = 2\\pi $\n",
    "$$ x_i = x_0 + i\\cdot step $$"
   ]
  },
  {
   "cell_type": "code",
   "execution_count": 6,
   "metadata": {},
   "outputs": [
    {
     "name": "stdout",
     "output_type": "stream",
     "text": [
      "h 1e-05\n",
      "6.283185307179586\n",
      "0\n"
     ]
    }
   ],
   "source": [
    "N = 30 #интервалы разбиения для интегрирования\n",
    "#на 30 падала точность в 3 задании\n",
    "k = 30 #интервалы для x\n",
    "h_der = 1e-5 #шаг для производной\n",
    "print('h', h_der)\n",
    "x_step = (x_h - x_l)/k\n",
    "print(x_step*k)\n",
    "\n",
    "x_s = [] #x_i\n",
    "results = [] #значение разности в каждом x_i\n",
    "\n",
    "x_i = x_l #x_0 = x_l = 0\n",
    "print(x_i)\n",
    "\n",
    "F = Func()"
   ]
  },
  {
   "cell_type": "code",
   "execution_count": 7,
   "metadata": {},
   "outputs": [],
   "source": [
    "for i in range(k+1):\n",
    "    x_i = x_l + i*x_step\n",
    "    x_s.append(x_i)\n",
    "    \n",
    "    F.set_m(1)\n",
    "    F.set_x(x_i)\n",
    "    J1 = simpson_method(F.func, N, t_l, t_h)*(1/np.pi)\n",
    "    \n",
    "    F.set_m(0)\n",
    "    F.set_x(x_i + h_der)\n",
    "    J0_right = simpson_method(F.func, N, t_l, t_h)*(1/np.pi)\n",
    "    F.set_x(x_i - h_der)\n",
    "    J0_left = simpson_method(F.func, N, t_l, t_h)*(1/np.pi)\n",
    "    der = (J0_right - J0_left)/(2*h_der)\n",
    "    \n",
    "    results.append(J1 + der)"
   ]
  },
  {
   "cell_type": "code",
   "execution_count": 8,
   "metadata": {},
   "outputs": [
    {
     "data": {
      "image/png": "[encoded data removed]",
      "text/plain": [
       "<Figure size 432x288 with 1 Axes>"
      ]
     },
     "metadata": {
      "needs_background": "light"
     },
     "output_type": "display_data"
    }
   ],
   "source": [
    "plt.plot(x_s, results, 'b')\n",
    "plt.grid()\n",
    "plt.xlabel('x_i')\n",
    "plt.ylabel('J\\'0 + J1')\n",
    "plt.title('J\\'0(x_i) + J1(x_i)')\n",
    "plt.show()"
   ]
  },
  {
   "cell_type": "markdown",
   "metadata": {},
   "source": [
    "#### Исследуем поведение результатов в зависимости от размеров шагов для вычисления интеграла и производной"
   ]
  },
  {
   "cell_type": "markdown",
   "metadata": {},
   "source": [
    "##### 1. Шаг для вычисления интеграла\n",
    "`N` - кол-во интералов разбиения для интегрирования\n",
    "\n",
    "Будем варьировать от 10 до 600 с шагом в 10. Построим график зависимости максимального по модулю значения $J_0'(x) + J_1(x)$ от `N`."
   ]
  },
  {
   "cell_type": "code",
   "execution_count": 9,
   "metadata": {},
   "outputs": [],
   "source": [
    "t_l = 0 #нижний предел интегрирования\n",
    "t_h = np.pi #верхний предел\n",
    "\n",
    "#интервал по x\n",
    "x_l = 0\n",
    "x_h = 2*np.pi \n",
    "\n",
    "k = 30 #интервалы для x\n",
    "h_der = 1e-5 #шаг для производной\n",
    "x_step = (x_h - x_l)/k\n",
    "\n",
    "x_i = x_l #x_0 = x_l = 0\n",
    "\n",
    "F = Func()\n",
    "\n",
    "results_N = []\n",
    "\n",
    "for N in range (10, 601, 10):\n",
    "    res_max = 0\n",
    "    for i in range(k+1):\n",
    "        x_i = x_l + i*x_step\n",
    "    \n",
    "        F.set_m(1)\n",
    "        F.set_x(x_i)\n",
    "        J1 = simpson_method(F.func, N, t_l, t_h)*(1/np.pi)\n",
    "\n",
    "        F.set_m(0)\n",
    "        F.set_x(x_i + h_der)\n",
    "        J0_right = simpson_method(F.func, N, t_l, t_h)*(1/np.pi)\n",
    "        F.set_x(x_i - h_der)\n",
    "        J0_left = simpson_method(F.func, N, t_l, t_h)*(1/np.pi)\n",
    "        der = (J0_right - J0_left)/(2*h_der)\n",
    "        \n",
    "        if abs(J1 + der) > res_max:\n",
    "            res_max = abs(J1 + der)\n",
    "    results_N.append(res_max)"
   ]
  },
  {
   "cell_type": "code",
   "execution_count": 10,
   "metadata": {},
   "outputs": [
    {
     "data": {
      "text/plain": [
       "0.005235987755982988"
      ]
     },
     "execution_count": 10,
     "metadata": {},
     "output_type": "execute_result"
    }
   ],
   "source": [
    "N = 600\n",
    "(t_h - t_l)/N"
   ]
  },
  {
   "cell_type": "code",
   "execution_count": 11,
   "metadata": {},
   "outputs": [
    {
     "data": {
      "image/png": "[encoded data removed]",
      "text/plain": [
       "<Figure size 432x288 with 1 Axes>"
      ]
     },
     "metadata": {
      "needs_background": "light"
     },
     "output_type": "display_data"
    }
   ],
   "source": [
    "plt.plot([N for N in range(10, 601, 10)], results_N, 'b')\n",
    "plt.grid()\n",
    "plt.xlabel('N')\n",
    "plt.ylabel('max(|J\\'0 + J1|)')\n",
    "plt.title('        Зависимость максимальной ошибки от N')\n",
    "plt.show()"
   ]
  },
  {
   "cell_type": "code",
   "execution_count": 12,
   "metadata": {},
   "outputs": [
    {
     "data": {
      "image/png": "[encoded data removed]",
      "text/plain": [
       "<Figure size 432x288 with 1 Axes>"
      ]
     },
     "metadata": {
      "needs_background": "light"
     },
     "output_type": "display_data"
    }
   ],
   "source": [
    "plt.plot([N for N in range(10, 601, 10)][:15], results_N[:15], 'b')\n",
    "plt.grid()\n",
    "plt.xlabel('N')\n",
    "plt.ylabel('max(|J\\'0 + J1|)')\n",
    "plt.title('        Зависимость максимального отклонения от N')\n",
    "plt.show()"
   ]
  },
  {
   "cell_type": "markdown",
   "metadata": {},
   "source": [
    "##### 2. Шаг для вычисления производной\n",
    "\n",
    "`h_der` - шаг для вычисления производной методом конечной разности. Будем менять от $1$ до $10^{-10}$, уменьшая на каждом шаге в 10 раз. Построим график зависимости максимального по модулю значения $J_0'(x) + J_1(x)$ от `h_der`."
   ]
  },
  {
   "cell_type": "code",
   "execution_count": 13,
   "metadata": {},
   "outputs": [],
   "source": [
    "simpson_method(F.func, N, t_l, t_h)\n",
    "\n",
    "#интервал по x\n",
    "x_l = 0\n",
    "x_h = 2*np.pi \n",
    "\n",
    "N = 30 #шаг для вычисления интеграла\n",
    "k = 30 #интервалы для x\n",
    "\n",
    "x_step = (x_h - x_l)/k\n",
    "\n",
    "x_i = x_l #x_0 = x_l = 0\n",
    "\n",
    "F = Func()\n",
    "\n",
    "results_h = []\n",
    "h_val = []\n",
    "\n",
    "h_der = 0.1\n",
    "\n",
    "for j in range (10):\n",
    "    \n",
    "    h_der = h_der/10\n",
    "    h_val.append(h_der)\n",
    "    res_max = 0\n",
    "    \n",
    "    for i in range(k+1):\n",
    "        x_i = x_l + i*x_step\n",
    "    \n",
    "        F.set_m(1)\n",
    "        F.set_x(x_i)\n",
    "        J1 = simpson_method(F.func, N, t_l, t_h)*(1/np.pi)\n",
    "\n",
    "        F.set_m(0)\n",
    "        F.set_x(x_i + h_der)\n",
    "        J0_right = simpson_method(F.func, N, t_l, t_h)*(1/np.pi)\n",
    "        F.set_x(x_i - h_der)\n",
    "        J0_left = simpson_method(F.func, N, t_l, t_h)*(1/np.pi)\n",
    "        der = (J0_right - J0_left)/(2*h_der)\n",
    "        \n",
    "        if abs(J1 + der) > res_max:\n",
    "            res_max = abs(J1 + der)\n",
    "    results_h.append(res_max)"
   ]
  },
  {
   "cell_type": "code",
   "execution_count": 14,
   "metadata": {},
   "outputs": [
    {
     "data": {
      "image/png": "[encoded data removed]",
      "text/plain": [
       "<Figure size 432x288 with 1 Axes>"
      ]
     },
     "metadata": {
      "needs_background": "light"
     },
     "output_type": "display_data"
    }
   ],
   "source": [
    "plt.plot(h_val, results_h, 'b')\n",
    "plt.grid()\n",
    "plt.xlabel('h_der')\n",
    "plt.ylabel('max(|J\\'0 + J1|)')\n",
    "plt.loglog()\n",
    "plt.title('    Зависимость максимального отклонения от h_der')\n",
    "plt.show()"
   ]
  },
  {
   "cell_type": "code",
   "execution_count": 15,
   "metadata": {},
   "outputs": [
    {
     "data": {
      "text/plain": [
       "[0.01,\n",
       " 0.001,\n",
       " 0.0001,\n",
       " 1e-05,\n",
       " 1.0000000000000002e-06,\n",
       " 1.0000000000000002e-07,\n",
       " 1.0000000000000002e-08,\n",
       " 1.0000000000000003e-09,\n",
       " 1.0000000000000003e-10,\n",
       " 1.0000000000000003e-11]"
      ]
     },
     "execution_count": 15,
     "metadata": {},
     "output_type": "execute_result"
    }
   ],
   "source": [
    "h_val"
   ]
  },
  {
   "cell_type": "code",
   "execution_count": 16,
   "metadata": {},
   "outputs": [
    {
     "data": {
      "text/plain": [
       "[4.116718863045321e-05,\n",
       " 4.1167388964424845e-07,\n",
       " 4.117234553291382e-09,\n",
       " 1.4528112046718888e-10,\n",
       " 9.449509230652353e-10,\n",
       " 1.4554071947614489e-08,\n",
       " 1.2755447520440555e-07,\n",
       " 1.3961684013352738e-06,\n",
       " 1.5075311097789701e-05,\n",
       " 9.057047677218932e-05]"
      ]
     },
     "execution_count": 16,
     "metadata": {},
     "output_type": "execute_result"
    }
   ],
   "source": [
    "results_h"
   ]
  },
  {
   "cell_type": "code",
   "execution_count": null,
   "metadata": {},
   "outputs": [],
   "source": []
  }
 ],
 "metadata": {
  "kernelspec": {
   "display_name": "Python 3",
   "language": "python",
   "name": "python3"
  },
  "language_info": {
   "codemirror_mode": {
    "name": "ipython",
    "version": 3
   },
   "file_extension": ".py",
   "mimetype": "text/x-python",
   "name": "python",
   "nbconvert_exporter": "python",
   "pygments_lexer": "ipython3",
   "version": "3.7.3"
  }
 },
 "nbformat": 4,
 "nbformat_minor": 4
}
