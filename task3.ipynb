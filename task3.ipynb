{
 "cells": [
  {
   "cell_type": "markdown",
   "metadata": {},
   "source": [
    "# Задача 3\n",
    "\n",
    "Вычислить интегралы \n",
    "\n",
    "$$ I_{3a} = \\int_{-1}^{1}{\\frac{dx}{1+x^2}} $$\n",
    "\n",
    "$$ I_{3b} = \\int_{0}^{1}{x^{\\frac{1}{3}} e^{sin x}dx} $$\n",
    "\n",
    "методами трапеций и Симпсона, разделив отрезок интегрирования на 4, 8, 16 интервалов. Как убывает погрешность численного интегрирования с ростом числа интервалов? "
   ]
  },
  {
   "cell_type": "markdown",
   "metadata": {},
   "source": [
    "### Задаем подынтегральные функции и пределы интегрирования:"
   ]
  },
  {
   "cell_type": "code",
   "execution_count": 1,
   "metadata": {},
   "outputs": [],
   "source": [
    "from math import *\n",
    "import numpy as np\n",
    "import matplotlib.pyplot as plt\n",
    "from scipy.integrate import quad"
   ]
  },
  {
   "cell_type": "code",
   "execution_count": 2,
   "metadata": {},
   "outputs": [],
   "source": [
    "def f_3a(x):\n",
    "    return 1/(1 + x*x)\n",
    "\n",
    "def f_3b(x):\n",
    "    return x**(1/3.0)*exp(sin(x))"
   ]
  },
  {
   "cell_type": "code",
   "execution_count": 3,
   "metadata": {},
   "outputs": [],
   "source": [
    "a_3a = -1\n",
    "b_3a = 1\n",
    "a_3b = 0.01\n",
    "b_3b = 1"
   ]
  },
  {
   "cell_type": "code",
   "execution_count": 4,
   "metadata": {
    "scrolled": true
   },
   "outputs": [
    {
     "data": {
      "image/png": "[encoded data removed]",
      "text/plain": [
       "<Figure size 432x288 with 1 Axes>"
      ]
     },
     "metadata": {
      "needs_background": "light"
     },
     "output_type": "display_data"
    }
   ],
   "source": [
    "x_3a = np.arange(a_3a - 1, b_3a + 1, 0.1)\n",
    "plt.plot(x_3a, f_3a(x_3a))\n",
    "plt.grid()\n",
    "plt.xlabel('x')\n",
    "plt.ylabel('f(x)')\n",
    "plt.title('Подынтегральная функция для (а)')\n",
    "plt.show()"
   ]
  },
  {
   "cell_type": "code",
   "execution_count": 5,
   "metadata": {},
   "outputs": [],
   "source": [
    "#x_3b = np.arange(a_3b, b_3b + 1, 0.1)\n",
    "#plt.plot(x_3b, f_3b(x_3b))\n",
    "#plt.grid()\n",
    "#plt.xlabel('x')\n",
    "#plt.ylabel('f(x)')\n",
    "#plt.title('Подынтегральная функция для (b)')\n",
    "#plt.show()"
   ]
  },
  {
   "cell_type": "code",
   "execution_count": 6,
   "metadata": {},
   "outputs": [],
   "source": [
    "I_3a_ans = 1.57079632679"
   ]
  },
  {
   "cell_type": "code",
   "execution_count": 7,
   "metadata": {},
   "outputs": [
    {
     "name": "stdout",
     "output_type": "stream",
     "text": [
      "(1.2942489171066007, 3.941041996735736e-09)\n"
     ]
    }
   ],
   "source": [
    "integral = quad(f_3b, a_3b, b_3b)\n",
    "print(integral)\n",
    "integral = integral[0]"
   ]
  },
  {
   "cell_type": "markdown",
   "metadata": {},
   "source": [
    "## Метод трапеций\n",
    "\n",
    "Разбиваем отрезок $[a, b]$ на $N$ частей $[x_0, x_1] ... [x_{N-1}, x_N]$, длина отрезков $x_i - x_{i -1} = h = const$. Тогда интеграл: \n",
    "\n",
    "$$  S_{[a, b]} \\approx h \\cdot (\\frac{1}{2}f_0 + f_1 + ... + f_{N-1} + \\frac{1}{2}f_N), $$\n",
    "\n",
    "где $f_i = f(x_i)$\n",
    "\n",
    "Асимптотическая оценка остаточного члена: \n",
    "\n",
    "$$R = - \\frac{h^2}{12}\\int_{a}^{b}f''(x)dx + O(h^3)$$\n",
    "\n",
    "То есть при увеличении числа интервалов N ошибка в формуле трапеции убывает как $O(h^2) \\sim 1/N^2$"
   ]
  },
  {
   "cell_type": "markdown",
   "metadata": {},
   "source": [
    "### Определем функцию для интегрирования\n",
    "\n",
    "* f - подынтегральная функция\n",
    "* N - число интервалов разбиения\n",
    "* $[a, b]$ - отрезок интегрирования\n",
    "* h - ширина интервалов разбиения"
   ]
  },
  {
   "cell_type": "code",
   "execution_count": 8,
   "metadata": {},
   "outputs": [],
   "source": [
    "def trapezoidal_method(f, N, a, b):\n",
    "    h = (b - a)/N\n",
    "    #print(\"h:\", h)\n",
    "    S = 0\n",
    "    f_xi = f(a) #f(x_i)\n",
    "    f_xi1 = 0 #f(x_i+1)\n",
    "    for i in range (1, N+1):\n",
    "        #print(\"i\", i)\n",
    "        f_xi1 = f(a + i*h)\n",
    "        #print(a+i*h)\n",
    "        #print(\"f\", f_xi1)\n",
    "        S += f_xi + f_xi1\n",
    "        f_xi = f_xi1\n",
    "    S = h*S/2\n",
    "    return S"
   ]
  },
  {
   "cell_type": "markdown",
   "metadata": {},
   "source": [
    "### Задаем различные N"
   ]
  },
  {
   "cell_type": "code",
   "execution_count": 9,
   "metadata": {},
   "outputs": [
    {
     "data": {
      "text/plain": [
       "20"
      ]
     },
     "execution_count": 9,
     "metadata": {},
     "output_type": "execute_result"
    }
   ],
   "source": [
    "N_s = [i for i in range(1, 21, 1)]\n",
    "len(N_s)"
   ]
  },
  {
   "cell_type": "markdown",
   "metadata": {},
   "source": [
    "### Интегрируем (3а) формулой трапеции:"
   ]
  },
  {
   "cell_type": "code",
   "execution_count": 10,
   "metadata": {},
   "outputs": [
    {
     "name": "stdout",
     "output_type": "stream",
     "text": [
      "1.5707963267945377\n",
      "4.53770354624794e-12\n"
     ]
    }
   ],
   "source": [
    "res_a_trapezoid = []\n",
    "err_a_trapezoid = []\n",
    "for i in N_s:\n",
    "    n = 2**i\n",
    "    S = trapezoidal_method(f_3a, n, a_3a, b_3a)\n",
    "    res_a_trapezoid.append(S)\n",
    "    err_a_trapezoid.append(np.abs(S - I_3a_ans))\n",
    "    \n",
    "print(res_a_trapezoid[len(N_s)-1])\n",
    "print(err_a_trapezoid[len(N_s)-1])"
   ]
  },
  {
   "cell_type": "code",
   "execution_count": 11,
   "metadata": {},
   "outputs": [
    {
     "data": {
      "image/png": "[encoded data removed]",
      "text/plain": [
       "<Figure size 432x288 with 1 Axes>"
      ]
     },
     "metadata": {
      "needs_background": "light"
     },
     "output_type": "display_data"
    }
   ],
   "source": [
    "plt.plot(N_s, err_a_trapezoid, 'ro', N_s, [1/(i**2) for i in N_s], 'b')\n",
    "plt.yscale(\"log\")\n",
    "plt.grid()\n",
    "plt.xlabel('N')\n",
    "plt.ylabel('error')\n",
    "plt.title('Зависимость ошибки от N, метод трапеции (а)')\n",
    "plt.show()"
   ]
  },
  {
   "cell_type": "markdown",
   "metadata": {},
   "source": [
    "### Интегрируем (3b) формулой трапеции:"
   ]
  },
  {
   "cell_type": "code",
   "execution_count": 12,
   "metadata": {},
   "outputs": [
    {
     "name": "stdout",
     "output_type": "stream",
     "text": [
      "1.2942489171061728\n",
      "4.2787995369053533e-13\n"
     ]
    }
   ],
   "source": [
    "res_b_trapezoid = []\n",
    "err_b_trapezoid = []\n",
    "for i in N_s:\n",
    "    n = 2**i\n",
    "    S = trapezoidal_method(f_3b, n, a_3b, b_3b)\n",
    "    res_b_trapezoid.append(S)\n",
    "    err_b_trapezoid.append(np.abs(S - integral))\n",
    "\n",
    "print(res_b_trapezoid[len(N_s)-1])\n",
    "print(err_b_trapezoid[len(N_s)-1])"
   ]
  },
  {
   "cell_type": "code",
   "execution_count": 13,
   "metadata": {},
   "outputs": [
    {
     "data": {
      "image/png": "[encoded data removed]",
      "text/plain": [
       "<Figure size 432x288 with 1 Axes>"
      ]
     },
     "metadata": {
      "needs_background": "light"
     },
     "output_type": "display_data"
    }
   ],
   "source": [
    "plt.plot(N_s, err_b_trapezoid, 'ro', N_s, [1/(i**2) for i in N_s], 'b')\n",
    "plt.yscale(\"log\")\n",
    "plt.grid()\n",
    "plt.xlabel('N')\n",
    "plt.ylabel('error')\n",
    "plt.title('Зависимость ошибки от N, метод трапеции (b)')\n",
    "plt.show()"
   ]
  },
  {
   "cell_type": "markdown",
   "metadata": {},
   "source": [
    "## Метод Симпсона\n",
    "\n",
    "Складываем формулу для метода средних и формулу для метода трапеций:\n",
    "\n",
    "$$ S{[a, b] \\approx \\frac{b-a}{6} \\cdot [f(a) + 4f(\\frac{a+b}{2} + f{b})]}$$\n",
    "\n",
    "Вводя равномерную сетку $a = x_0, x_1, ..., x_{2k-1}, x_{2k} = b$, получаем составную формулу. \n",
    "\n",
    "Остаточный член: \n",
    "\n",
    "$$R = - \\frac {h^4}{180} \\int_{a}^{b} f^{(iv)}(x)dx + O(h^5)$$\n",
    "\n",
    "При увеличении числа интервалов разбиения $N$ ошибка в формуле Симпсона убывает как $O(h^4) \\sim 1/N^4$"
   ]
  },
  {
   "cell_type": "markdown",
   "metadata": {},
   "source": [
    "### Определю функцию для интегрирования\n",
    "\n",
    "* f - подынтегральная функция\n",
    "* N - число интервалов разбиения\n",
    "* $[a, b]$ - отрезок интегрирования\n",
    "* h - ширина интервалов разбиения"
   ]
  },
  {
   "cell_type": "code",
   "execution_count": 14,
   "metadata": {},
   "outputs": [],
   "source": [
    "def simpson_method(f, N, a, b):\n",
    "    if N % 2 == 1:\n",
    "        N += 1\n",
    "\n",
    "    h = (b - a) / N\n",
    "    s = f(a) + f(b)\n",
    "    n = int(N/2)\n",
    "    for i in range(1, n):\n",
    "        s += 2 * f(a + h * 2 * i)\n",
    "    for i in range(1, n + 1):\n",
    "        s += 4 * f(a + h * (2 * i - 1))\n",
    "    return s * h / 3"
   ]
  },
  {
   "cell_type": "markdown",
   "metadata": {},
   "source": [
    "### Интегрирую (а) формулой Симпсона:"
   ]
  },
  {
   "cell_type": "code",
   "execution_count": 15,
   "metadata": {},
   "outputs": [
    {
     "name": "stdout",
     "output_type": "stream",
     "text": [
      "1.5707963267948584\n",
      "4.858335955759685e-12\n"
     ]
    }
   ],
   "source": [
    "res_a_Simpson = []\n",
    "err_a_Simpson = []\n",
    "for i in N_s:\n",
    "    n = 2**i\n",
    "    S = simpson_method(f_3a, n, a_3a, b_3a)\n",
    "    res_a_Simpson.append(S)\n",
    "    err_a_Simpson.append(np.abs(S - I_3a_ans))\n",
    "\n",
    "print(res_a_Simpson[len(N_s)-1])\n",
    "print(err_a_Simpson[len(N_s)-1])"
   ]
  },
  {
   "cell_type": "code",
   "execution_count": 16,
   "metadata": {},
   "outputs": [
    {
     "data": {
      "image/png": "[encoded data removed]",
      "text/plain": [
       "<Figure size 432x288 with 1 Axes>"
      ]
     },
     "metadata": {
      "needs_background": "light"
     },
     "output_type": "display_data"
    }
   ],
   "source": [
    "plt.plot(N_s, err_a_Simpson, 'ro', N_s, [1/(i**4) for i in N_s], 'b')\n",
    "plt.yscale(\"log\")\n",
    "plt.grid()\n",
    "plt.xlabel('N')\n",
    "plt.ylabel('error')\n",
    "plt.title('Зависимость ошибки от N, метод Симпсона (а)')\n",
    "#plt.legend()\n",
    "plt.show()"
   ]
  },
  {
   "cell_type": "markdown",
   "metadata": {},
   "source": [
    "### Интегрирую (b) формулой Симпсона:"
   ]
  },
  {
   "cell_type": "code",
   "execution_count": 17,
   "metadata": {},
   "outputs": [
    {
     "name": "stdout",
     "output_type": "stream",
     "text": [
      "1.2942489171066345\n",
      "3.375077994860476e-14\n"
     ]
    }
   ],
   "source": [
    "res_b_Simpson = []\n",
    "err_b_Simpson = []\n",
    "for i in N_s:\n",
    "    n = 2**i\n",
    "    S = simpson_method(f_3b, n, a_3b, b_3b)\n",
    "    res_b_Simpson.append(S)\n",
    "    err_b_Simpson.append(np.abs(S - integral))\n",
    "    \n",
    "print(res_b_Simpson[len(N_s)-1])\n",
    "print(err_b_Simpson[len(N_s)-1])"
   ]
  },
  {
   "cell_type": "code",
   "execution_count": 18,
   "metadata": {},
   "outputs": [
    {
     "data": {
      "image/png": "[encoded data removed]",
      "text/plain": [
       "<Figure size 432x288 with 1 Axes>"
      ]
     },
     "metadata": {
      "needs_background": "light"
     },
     "output_type": "display_data"
    }
   ],
   "source": [
    "plt.plot(N_s, err_b_Simpson, 'ro', N_s, [1/(i**4) for i in N_s], 'b')\n",
    "plt.yscale(\"log\")\n",
    "plt.grid()\n",
    "plt.xlabel('N')\n",
    "plt.ylabel('error')\n",
    "plt.title('Зависимость ошибки от N, метод Симпсона (b)')\n",
    "plt.show()"
   ]
  },
  {
   "cell_type": "code",
   "execution_count": 19,
   "metadata": {},
   "outputs": [
    {
     "name": "stdout",
     "output_type": "stream",
     "text": [
      "0.0003255207693053652\n",
      "1.271560858384646e-06\n",
      "1.4517720359208397e-11\n",
      "\n",
      "1.177588693224152e-09\n",
      "4.8967496724117154e-12\n",
      "4.887423799004864e-12\n"
     ]
    }
   ],
   "source": [
    "print(err_a_trapezoid[4])\n",
    "print(err_a_trapezoid[8])\n",
    "print(err_a_trapezoid[16])\n",
    "print()\n",
    "print(err_a_Simpson[4])\n",
    "print(err_a_Simpson[8])\n",
    "print(err_a_Simpson[16])"
   ]
  },
  {
   "cell_type": "code",
   "execution_count": 20,
   "metadata": {},
   "outputs": [
    {
     "name": "stdout",
     "output_type": "stream",
     "text": [
      "0.00038569956045853004\n",
      "1.6948189127674596e-06\n",
      "2.5834001604607693e-11\n",
      "\n",
      "7.162942009486528e-05\n",
      "5.903316946387349e-09\n",
      "3.863576125695545e-14\n"
     ]
    }
   ],
   "source": [
    "print(err_b_trapezoid[4])\n",
    "print(err_b_trapezoid[8])\n",
    "print(err_b_trapezoid[16])\n",
    "print()\n",
    "print(err_b_Simpson[4])\n",
    "print(err_b_Simpson[8])\n",
    "print(err_b_Simpson[16])"
   ]
  }
 ],
 "metadata": {
  "kernelspec": {
   "display_name": "Python 3",
   "language": "python",
   "name": "python3"
  },
  "language_info": {
   "codemirror_mode": {
    "name": "ipython",
    "version": 3
   },
   "file_extension": ".py",
   "mimetype": "text/x-python",
   "name": "python",
   "nbconvert_exporter": "python",
   "pygments_lexer": "ipython3",
   "version": "3.7.3"
  }
 },
 "nbformat": 4,
 "nbformat_minor": 4
}
