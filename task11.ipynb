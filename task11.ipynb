{
 "cells": [
  {
   "cell_type": "markdown",
   "metadata": {},
   "source": [
    "# Задача 11\n",
    "\n",
    "Найти уровень энергии и волновую функцию $\\psi(x)$ основного состояния в потенциальной яме $U(x)$, решая конечномерный аналог спектральной задачи для одномерного стационарного уравнения Шрёдингера\n",
    "\n",
    "$$(-\\frac{1}{2}\\frac{\\partial^2}{\\partial x^2} + U(x) - E)\\psi(x, t) = 0, \\;\\; |\\psi(x)| \\rightarrow 0 \\; при \\; |x| \\rightarrow \\infty$$ \n",
    "\n",
    "Для поиска наименьшего собственного значения $\\hat H \\vec{\\psi} = E_0 \\vec{\\psi}$ трехдиагональной матрицы $\\hat H$ использовать метод обратных итераций.\n",
    "\n",
    "Проверить работу программы, сравнив с точным решением для $U(x) = \\frac{1}{2}x^2$"
   ]
  },
  {
   "cell_type": "markdown",
   "metadata": {},
   "source": [
    "## Решение: "
   ]
  },
  {
   "cell_type": "code",
   "execution_count": 69,
   "metadata": {},
   "outputs": [],
   "source": [
    "import math\n",
    "import numpy as np\n",
    "import scipy.linalg as sla\n",
    "import matplotlib.pyplot as plt"
   ]
  },
  {
   "cell_type": "markdown",
   "metadata": {},
   "source": [
    "### Аналитическое решение\n",
    "\n",
    "Уравнение  $\\hat H \\vec{\\psi} = E_0 \\vec{\\psi}$ - стационарное, значит и решение тоже.\n",
    "\n",
    "Потенциал осциллятора: \n",
    "\n",
    "$$U(x) = \\frac{m\\omega^2x^2}{2}, \\;\\; \\\\\n",
    "m = 1, \\; \\omega = 1, \\; \\hbar = 1$$\n",
    "\n",
    "Основное состояние: \n",
    "\n",
    "$$E_0 = \\frac{h\\omega}{2} = \\frac{1}{2}$$\n",
    "\n",
    "$$\\psi_0(x) = (\\frac{m\\omega}{\\pi \\hbar})^{1/4} \\exp{(-\\frac{m\\omega x^2}{2\\hbar})} = (\\frac{1}{\\pi})^{1/4}\\exp{(-\\frac{x^2}{2})}$$"
   ]
  },
  {
   "cell_type": "code",
   "execution_count": 70,
   "metadata": {},
   "outputs": [],
   "source": [
    "E0_sol = 1/2\n",
    "\n",
    "def psi0_analytical(x):\n",
    "    return (1/math.pi)**(1/4) * math.exp(-0.5*(x**2))"
   ]
  },
  {
   "cell_type": "code",
   "execution_count": 71,
   "metadata": {},
   "outputs": [],
   "source": [
    "x_start = -10\n",
    "x_end = 10\n",
    "N = 200\n",
    "h = (x_end - x_start)/N \n",
    "\n",
    "x_s_sol = []\n",
    "psi0_sol = []\n",
    "\n",
    "for i in range(N):\n",
    "    x_s_sol.append(x_start + i*h)\n",
    "    psi0_sol.append(psi0_analytical(x_s_sol[i]))\n",
    "    \n",
    "#нормировать на 1\n",
    "sol_norm = sla.norm(psi0_sol)\n",
    "psi0_sol = [psi0_sol[i]/sol_norm for i in range(len(psi0_sol))]"
   ]
  },
  {
   "cell_type": "code",
   "execution_count": 72,
   "metadata": {},
   "outputs": [
    {
     "data": {
      "image/png": "[encoded data removed]",
      "text/plain": [
       "<Figure size 504x504 with 1 Axes>"
      ]
     },
     "metadata": {
      "needs_background": "light"
     },
     "output_type": "display_data"
    }
   ],
   "source": [
    "plt.figure(figsize=(7,7))\n",
    "plt.plot(x_s_sol, psi0_sol, 'm+', label=\"psi_0(x)\")\n",
    "plt.grid()\n",
    "plt.title('Волновая функция основного состояния, аналитическое решение')\n",
    "plt.xlabel('x')\n",
    "plt.ylabel('psi0(x)')\n",
    "plt.legend()\n",
    "plt.show()"
   ]
  },
  {
   "cell_type": "markdown",
   "metadata": {},
   "source": [
    "### Численное решение:"
   ]
  },
  {
   "cell_type": "markdown",
   "metadata": {},
   "source": [
    "Уравнение:\n",
    "\n",
    "$$-\\frac{1}{2}\\frac{\\partial^2}{\\partial x^2} + \\frac{x^2}{2} = E_0\\psi(x)$$\n",
    "\n",
    "Если переписать вторую производную через конечную разность:\n",
    "\n",
    "$${\\psi}_i'' =\\frac{\\psi_{i-1} - 2\\psi_i + \\psi_{i+1}}{h^2}$$\n",
    "\n",
    "То уравнение в одной точке: \n",
    "\n",
    "$$\\frac{-\\psi_{i-1}}{2h^2} +(\\frac{1}{h^2}+\\frac{x_i^2}{2})\\psi_i + \\frac{\\psi_{i+1}}{2h^2} = E_0\\psi_i$$\n",
    "\n",
    "В матричном виде $H\\vec{\\psi} = E_0\\vec{\\psi}$ матрица $H$ в левой части будет трехдиагональной, следовательно для решения можно будет использовать метод прогонки: \n",
    "\n",
    "$$H = \n",
    "\\begin{pmatrix}\n",
    "\\frac{1}{h^2}+\\frac{x_1^2}{2} & \\frac{-1}{2h^2} & 0 & ... & 0 & 0 & 0\\\\ \n",
    "\\frac{-1}{2h^2} & \\frac{1}{h^2}+\\frac{x_2^2}{2} & \\frac{-1}{2h^2} & ... & 0 & 0 & 0\\\\ \n",
    "... & ... & ... & ... & ... & ... & ...\\\\ \n",
    "0 & 0 & 0 & ... & \\frac{-1}{2h^2} & \\frac{1}{h^2}+\\frac{x_{N-1}^2}{2} & \\frac{-1}{2h^2}\\\\ \n",
    "0 & 0 & 0 & ... & 0 & \\frac{-1}{2h^2} & \\frac{1}{h^2}+\\frac{x_N^2}{2}\n",
    "\\end{pmatrix}\n",
    "$$"
   ]
  },
  {
   "cell_type": "code",
   "execution_count": 73,
   "metadata": {},
   "outputs": [],
   "source": [
    "def U(x):\n",
    "    return (x**2)/2"
   ]
  },
  {
   "cell_type": "code",
   "execution_count": 74,
   "metadata": {},
   "outputs": [],
   "source": [
    "def make_matrix(N, x_start, x_end):\n",
    "    \n",
    "    h = (x_end - x_start)/N\n",
    "    \n",
    "    a = []\n",
    "    b = []\n",
    "    c = []\n",
    "    \n",
    "    for i in range(0, N):\n",
    "        xi = x_start + i*h\n",
    "        a.append(-0.5/(h**2))\n",
    "        b.append(1/(h**2) + U(xi))\n",
    "        c.append(-0.5/(h**2))\n",
    "        \n",
    "    a[0] = 0\n",
    "    c[N-1] = 0\n",
    "    \n",
    "    A = [a, b, c]\n",
    "    \n",
    "    return A"
   ]
  },
  {
   "cell_type": "markdown",
   "metadata": {},
   "source": [
    "### Метод итераций"
   ]
  },
  {
   "cell_type": "markdown",
   "metadata": {},
   "source": [
    "Степенной метод находит наибольшее собственное значение, а мы ищем основное состояние - наименьшую энергию - наименьшее собственное значение. Рассмотрим обратную матрицу, так как ее собственные значение будут обратными величинами к собственным значениям исходной матрицы.\n",
    "\n",
    "\"Прямой\" метод: \n",
    "\n",
    "Если расположить собственные числа в порядке возрастания, т.е. $E_1$ - максимальное, то: \n",
    "\n",
    "Возьмем произвольный вектор $\\psi^{(0)} = \\sum{a_i\\psi_i}, \\;\\; \\psi_i$ собственные вектора матрицы.\n",
    "\n",
    "Тогда итерационный процесс, при котором этот произвольный вектор каждый раз умножается на нашу матрицу $\\hat H$ будет сходиться к собственному вектору $\\psi_1$, соответсвующему наибольшему собственному значению $E_1$: \n",
    "\n",
    "$$\\psi^{(k)} = \\hat H \\psi^{(k-1)} \\;\\; \\rightarrow \\;\\; \\psi_1$$\n",
    "\n",
    "Но: нам необходимо наименьшее собственное значение. Оно же - наибольшее собственное значение для обратной матрицы $\\hat H^{-1}$. Тогда итерационный процесс: \n",
    "\n",
    "$$\\psi^{(k)} = \\hat H^{-1} \\psi^{(k-1)}$$\n",
    "\n",
    "Или: \n",
    "\n",
    "$$\\hat H \\psi^{(k)} = \\psi^{(k-1)}$$\n",
    "\n",
    "Итерационный процесс обратный - \"поднимаемся\" от последнего - метод прогонки!\n",
    "\n",
    "Собственное значение в таком случае: \n",
    "\n",
    "$$E_0 = \\frac{1}{\\lambda_{max}} = \\frac{\\left \\|\\psi^{[k-1]}  \\right \\|}{\\left \\|\\psi^{[k]}  \\right \\|}$$"
   ]
  },
  {
   "cell_type": "markdown",
   "metadata": {},
   "source": [
    "Метод прогонки для трехдиагональной матрицы: "
   ]
  },
  {
   "cell_type": "code",
   "execution_count": 75,
   "metadata": {},
   "outputs": [],
   "source": [
    "def solve_3diag(A, d, N):\n",
    "    \n",
    "    # A = [a, b, c]\n",
    "    \n",
    "    d_new = d.copy()\n",
    "    b_new = A[1].copy()\n",
    "    c_new = A[2].copy()\n",
    "    a_new = A[0].copy()\n",
    "    \n",
    "    for i in range(0, N):\n",
    "        k = a_new[i] / b_new[i-1]\n",
    "        b_new[i] -= k*c_new[i-1]\n",
    "        d_new[i] -= k*d_new[i-1]\n",
    "    \n",
    "    y = [i for i in range(N)]\n",
    "    \n",
    "    y[N-1] = d_new[N-1]/b_new[N-1]\n",
    "    \n",
    "    for i in range(N-2, -1, -1):\n",
    "        y[i] = (d_new[i] - c_new[i]*y[i+1])/b_new[i]\n",
    "        \n",
    "    return y"
   ]
  },
  {
   "cell_type": "markdown",
   "metadata": {},
   "source": [
    "### Вычисления: "
   ]
  },
  {
   "cell_type": "markdown",
   "metadata": {},
   "source": [
    "Границы и разбиение интервала:"
   ]
  },
  {
   "cell_type": "code",
   "execution_count": 76,
   "metadata": {},
   "outputs": [],
   "source": [
    "x_start = -10\n",
    "x_end = 10\n",
    "N = 500\n",
    "h = (x_end - x_start)/N \n",
    "\n",
    "x_s = [(x_start + i*h) for i in range(N)]"
   ]
  },
  {
   "cell_type": "markdown",
   "metadata": {},
   "source": [
    "**Еще раз вычислю точки аналитического решения:**"
   ]
  },
  {
   "cell_type": "code",
   "execution_count": 77,
   "metadata": {},
   "outputs": [],
   "source": [
    "psi0_sol = [psi0_analytical(x_s[i]) for i in range(N)]\n",
    "E0_sol = 1/2"
   ]
  },
  {
   "cell_type": "markdown",
   "metadata": {},
   "source": [
    "Нормировать на единицу:"
   ]
  },
  {
   "cell_type": "code",
   "execution_count": 78,
   "metadata": {},
   "outputs": [],
   "source": [
    "sol_norm = sla.norm(psi0_sol)\n",
    "psi0_sol = [psi0_sol[i]/sol_norm for i in range(len(psi0_sol))]"
   ]
  },
  {
   "cell_type": "markdown",
   "metadata": {},
   "source": [
    "**Метод обратных итераций:**"
   ]
  },
  {
   "cell_type": "markdown",
   "metadata": {},
   "source": [
    "Генерирую матрицу $\\hat H$ и начальный вектор:"
   ]
  },
  {
   "cell_type": "code",
   "execution_count": 79,
   "metadata": {},
   "outputs": [],
   "source": [
    "H = make_matrix(N, x_start, x_end) #трехдиагональная матрица\n",
    "\n",
    "psi_next = [i/N for i in range(N)] #как начальный случайный вектор возьму просто N точек от 0 до 1\n",
    "psi_prev = psi_next"
   ]
  },
  {
   "cell_type": "code",
   "execution_count": 80,
   "metadata": {},
   "outputs": [],
   "source": [
    "K = 100  #количество итераций\n",
    "\n",
    "for k in range(0, K):\n",
    "    psi_prev = psi_next\n",
    "    psi_next = solve_3diag(H, psi_prev, N)\n",
    "    \n",
    "E0 = sla.norm(psi_prev)/sla.norm(psi_next)\n",
    "\n",
    "psi0_norm = sla.norm(psi_next)\n",
    "psi0 = [psi_next[i]/psi0_norm for i in range(len(psi_next))]"
   ]
  },
  {
   "cell_type": "markdown",
   "metadata": {},
   "source": [
    "**Основной уровень энергии - численное решение:**"
   ]
  },
  {
   "cell_type": "code",
   "execution_count": 81,
   "metadata": {
    "scrolled": true
   },
   "outputs": [
    {
     "data": {
      "text/plain": [
       "0.4999499949985014"
      ]
     },
     "execution_count": 81,
     "metadata": {},
     "output_type": "execute_result"
    }
   ],
   "source": [
    "E0"
   ]
  },
  {
   "cell_type": "markdown",
   "metadata": {},
   "source": [
    "Аналитическое решение: "
   ]
  },
  {
   "cell_type": "code",
   "execution_count": 82,
   "metadata": {},
   "outputs": [
    {
     "data": {
      "text/plain": [
       "0.5"
      ]
     },
     "execution_count": 82,
     "metadata": {},
     "output_type": "execute_result"
    }
   ],
   "source": [
    "E0_sol"
   ]
  },
  {
   "cell_type": "code",
   "execution_count": 83,
   "metadata": {},
   "outputs": [
    {
     "data": {
      "text/plain": [
       "[1.8422310096824203e-23,\n",
       " 3.9762717060849825e-23,\n",
       " 6.735075028470297e-23,\n",
       " 1.0543542488180514e-22,\n",
       " 1.5981864485218384e-22,\n",
       " 2.387054384507394e-22,\n",
       " 3.538907740385589e-22,\n",
       " 5.22447198291393e-22,\n",
       " 7.691437512333599e-22,\n",
       " 1.1299227819455735e-21,\n",
       " 1.6568993524637466e-21,\n",
       " 2.425544900065287e-21,\n",
       " 3.5449968125584985e-21,\n",
       " 5.172832464001285e-21,\n",
       " 7.536207647514104e-21,\n",
       " 1.0962051854812761e-20,\n",
       " 1.5920129576273468e-20,\n",
       " 2.308434753248845e-20,\n",
       " 3.341989315308615e-20,\n",
       " 4.830688065478028e-20,\n",
       " 6.971550573136732e-20,\n",
       " 1.0045374980254555e-19,\n",
       " 1.4451709538733937e-19,\n",
       " 2.0758143306229718e-19,\n",
       " 2.976966206412307e-19,\n",
       " 4.262607319087933e-19,\n",
       " 6.093862850692206e-19,\n",
       " 8.69812927258557e-19,\n",
       " 1.2395806212209497e-18,\n",
       " 1.7637594023629357e-18,\n",
       " 2.505644509496143e-18,\n",
       " 3.55398036366199e-18,\n",
       " 5.032988695626995e-18,\n",
       " 7.116265703251441e-18,\n",
       " 1.0046008283860135e-17,\n",
       " 1.4159567658715714e-17,\n",
       " 1.9926060589536578e-17,\n",
       " 2.7996761721044337e-17,\n",
       " 3.9274346324984854e-17,\n",
       " 5.5007872585678485e-17,\n",
       " 7.692284912056574e-17,\n",
       " 1.0739904338006245e-16,\n",
       " 1.4971313824726124e-16,\n",
       " 2.0836932043537425e-16,\n",
       " 2.8954889260223533e-16,\n",
       " 4.0172071269794903e-16,\n",
       " 5.564685650899857e-16,\n",
       " 7.69610626082004e-16,\n",
       " 1.0627115370052548e-15,\n",
       " 1.4651212563034154e-15,\n",
       " 2.0167194675566807e-15,\n",
       " 2.771603323847051e-15,\n",
       " 3.803034212182985e-15,\n",
       " 5.210061886657086e-15,\n",
       " 7.126379362709567e-15,\n",
       " 9.732139265486966e-15,\n",
       " 1.326969466739719e-14,\n",
       " 1.8064531346168633e-14,\n",
       " 2.4553055129370736e-14,\n",
       " 3.331941494342779e-14,\n",
       " 4.514421450118606e-14,\n",
       " 6.10688382668809e-14,\n",
       " 8.248024799097227e-14,\n",
       " 1.1122256814201971e-13,\n",
       " 1.4974366546394812e-13,\n",
       " 2.012873584195176e-13,\n",
       " 2.7014501700609917e-13,\n",
       " 3.619843228141391e-13,\n",
       " 4.842780936749716e-13,\n",
       " 6.468626396698877e-13,\n",
       " 8.626634883115637e-13,\n",
       " 1.14863697378642e-12,\n",
       " 1.5269897257328697e-12,\n",
       " 2.02675526318445e-12,\n",
       " 2.6858286285673986e-12,\n",
       " 3.553587440572375e-12,\n",
       " 4.694262336644176e-12,\n",
       " 6.1912632895853024e-12,\n",
       " 8.152722908588948e-12,\n",
       " 1.0718586271095897e-11,\n",
       " 1.4069662394466419e-11,\n",
       " 1.8439159211969164e-11,\n",
       " 2.4127356840501158e-11,\n",
       " 3.152023908868535e-11,\n",
       " 4.111310794480789e-11,\n",
       " 5.3540459181443467e-11,\n",
       " 6.961371009382897e-11,\n",
       " 9.03687558968822e-11,\n",
       " 1.1712580528803382e-10,\n",
       " 1.5156452719571463e-10,\n",
       " 1.9581825263279912e-10,\n",
       " 2.525918452042688e-10,\n",
       " 3.2530891380498883e-10,\n",
       " 4.182953302122766e-10,\n",
       " 5.370075787068425e-10,\n",
       " 6.883163590799335e-10,\n",
       " 8.808581527689827e-10,\n",
       " 1.125470220159741e-09,\n",
       " 1.4357278141938133e-09,\n",
       " 1.8286063753375871e-09,\n",
       " 2.325296237035133e-09,\n",
       " 2.9522030600912593e-09,\n",
       " 3.74217399260192e-09,\n",
       " 4.735997608115066e-09,\n",
       " 5.984235226413867e-09,\n",
       " 7.549452518624588e-09,\n",
       " 9.50893362720119e-09,\n",
       " 1.195797571765157e-08,\n",
       " 1.5013880292773864e-08,\n",
       " 1.8820779160380996e-08,\n",
       " 2.35554581238055e-08,\n",
       " 2.943437079030228e-08,\n",
       " 3.6722068957285943e-08,\n",
       " 4.574131549798644e-08,\n",
       " 5.6885191254721906e-08,\n",
       " 7.063155996145603e-08,\n",
       " 8.756031553599357e-08,\n",
       " 1.0837390516268201e-07,\n",
       " 1.3392170046423157e-07,\n",
       " 1.6522887884940912e-07,\n",
       " 2.035305790099255e-07,\n",
       " 2.503122097824615e-07,\n",
       " 3.0735692150975964e-07,\n",
       " 3.768013949978295e-07,\n",
       " 4.612012665799517e-07,\n",
       " 5.636076900841819e-07,\n",
       " 6.876567390738956e-07,\n",
       " 8.376735769683755e-07,\n",
       " 1.0187935698585288e-06,\n",
       " 1.2371027882042473e-06,\n",
       " 1.4998006401656568e-06,\n",
       " 1.8153877018939744e-06,\n",
       " 2.1938821592214416e-06,\n",
       " 2.6470686510240103e-06,\n",
       " 3.1887837068337907e-06,\n",
       " 3.835242399280505e-06,\n",
       " 4.605411284258578e-06,\n",
       " 5.521433176249925e-06,\n",
       " 6.60910980005944e-06,\n",
       " 7.898448869481987e-06,\n",
       " 9.424282663205068e-06,\n",
       " 1.1226965692478518e-05,\n",
       " 1.3353159576382586e-05,\n",
       " 1.5856713750128935e-05,\n",
       " 1.8799651119459647e-05,\n",
       " 2.22532682279886e-05,\n",
       " 2.6299359910698602e-05,\n",
       " 3.103157875046292e-05,\n",
       " 3.6556939918322725e-05,\n",
       " 4.299748214345888e-05,\n",
       " 5.049209560473509e-05,\n",
       " 5.919852744006836e-05,\n",
       " 6.929557530885604e-05,\n",
       " 8.098547899103225e-05,\n",
       " 9.449651933767174e-05,\n",
       " 0.00011008583297519937,\n",
       " 0.00012804244998052087,\n",
       " 0.00014869056026006622,\n",
       " 0.0001723930125546295,\n",
       " 0.00019955504782789827,\n",
       " 0.00023062826625536474,\n",
       " 0.00026611482409010764,\n",
       " 0.00030657185332427875,\n",
       " 0.0003526160932758208,\n",
       " 0.0004049287189999521,\n",
       " 0.00046426034675141185,\n",
       " 0.0005314361916106692,\n",
       " 0.0006073613468477383,\n",
       " 0.0006930261486525784,\n",
       " 0.0007895115835431123,\n",
       " 0.0008979946891135097,\n",
       " 0.0010197538918612838,\n",
       " 0.0011561742186991352,\n",
       " 0.0013087523114966553,\n",
       " 0.0014791011667015478,\n",
       " 0.0016689545148670798,\n",
       " 0.0018801707478823442,\n",
       " 0.0021147362949978416,\n",
       " 0.0023747683425060667,\n",
       " 0.0026625167863313566,\n",
       " 0.0029803653019707488,\n",
       " 0.003330831412381057,\n",
       " 0.0037165654317050175,\n",
       " 0.004140348161352084,\n",
       " 0.00460508721507751,\n",
       " 0.005113811851513196,\n",
       " 0.00566966619626417,\n",
       " 0.006275900741352593,\n",
       " 0.006935862017608032,\n",
       " 0.007652980345689183,\n",
       " 0.008430755583874324,\n",
       " 0.009272740805642077,\n",
       " 0.010182523857413507,\n",
       " 0.01116370676663609,\n",
       " 0.012219882992612903,\n",
       " 0.01335461253702436,\n",
       " 0.014571394957815037,\n",
       " 0.015873640358833912,\n",
       " 0.017264638458081148,\n",
       " 0.018747525869333998,\n",
       " 0.02032525176495261,\n",
       " 0.02200054212140858,\n",
       " 0.023775862783090917,\n",
       " 0.025653381613740624,\n",
       " 0.02763493003792095,\n",
       " 0.02972196430668991,\n",
       " 0.03191552685152403,\n",
       " 0.034216208117951265,\n",
       " 0.036624109294684536,\n",
       " 0.03913880637470728,\n",
       " 0.04175931600116657,\n",
       " 0.04448406356252368,\n",
       " 0.04731085400768009,\n",
       " 0.05023684585227701,\n",
       " 0.053258528841657375,\n",
       " 0.056371705723757784,\n",
       " 0.059571478566225015,\n",
       " 0.06285224002618603,\n",
       " 0.0662076699483041,\n",
       " 0.069630737627101,\n",
       " 0.07311371002320768,\n",
       " 0.07664816617053449,\n",
       " 0.08022501795276028,\n",
       " 0.08383453736358046,\n",
       " 0.08746639029649604,\n",
       " 0.09110967683735105,\n",
       " 0.09475297795721255,\n",
       " 0.09838440842551206,\n",
       " 0.10199167568467689,\n",
       " 0.10556214434888705,\n",
       " 0.10908290591225572,\n",
       " 0.11254085317682973,\n",
       " 0.11592275883953039,\n",
       " 0.11921535761067639,\n",
       " 0.12240543117618523,\n",
       " 0.12547989526201583,\n",
       " 0.12842588801388966,\n",
       " 0.1312308588687086,\n",
       " 0.13388265706715632,\n",
       " 0.13636961894036576,\n",
       " 0.13868065309775512,\n",
       " 0.1408053226485052,\n",
       " 0.14273392360582726,\n",
       " 0.14445755865113577,\n",
       " 0.14596820547428108,\n",
       " 0.14725877895573314,\n",
       " 0.14832318651647064,\n",
       " 0.14915637603058524,\n",
       " 0.149754375773362,\n",
       " 0.15011432596280624,\n",
       " 0.1502345015440792,\n",
       " 0.15011432596280633,\n",
       " 0.14975437577336215,\n",
       " 0.1491563760305854,\n",
       " 0.14832318651647086,\n",
       " 0.14725877895573336,\n",
       " 0.14596820547428133,\n",
       " 0.144457558651136,\n",
       " 0.1427339236058275,\n",
       " 0.14080532264850545,\n",
       " 0.1386806530977554,\n",
       " 0.13636961894036606,\n",
       " 0.13388265706715666,\n",
       " 0.13123085886870894,\n",
       " 0.12842588801389,\n",
       " 0.12547989526201617,\n",
       " 0.12240543117618558,\n",
       " 0.11921535761067674,\n",
       " 0.11592275883953071,\n",
       " 0.11254085317683,\n",
       " 0.109082905912256,\n",
       " 0.10556214434888733,\n",
       " 0.10199167568467717,\n",
       " 0.09838440842551235,\n",
       " 0.09475297795721284,\n",
       " 0.09110967683735133,\n",
       " 0.0874663902964963,\n",
       " 0.08383453736358072,\n",
       " 0.08022501795276053,\n",
       " 0.07664816617053472,\n",
       " 0.07311371002320789,\n",
       " 0.06963073762710119,\n",
       " 0.06620766994830428,\n",
       " 0.06285224002618618,\n",
       " 0.059571478566225154,\n",
       " 0.056371705723757916,\n",
       " 0.05325852884165751,\n",
       " 0.05023684585227713,\n",
       " 0.04731085400768021,\n",
       " 0.04448406356252378,\n",
       " 0.04175931600116667,\n",
       " 0.039138806374707374,\n",
       " 0.036624109294684626,\n",
       " 0.034216208117951355,\n",
       " 0.031915526851524115,\n",
       " 0.029721964306689986,\n",
       " 0.02763493003792102,\n",
       " 0.025653381613740697,\n",
       " 0.02377586278309099,\n",
       " 0.022000542121408652,\n",
       " 0.020325251764952677,\n",
       " 0.018747525869334057,\n",
       " 0.017264638458081207,\n",
       " 0.015873640358833964,\n",
       " 0.014571394957815087,\n",
       " 0.013354612537024406,\n",
       " 0.012219882992612941,\n",
       " 0.011163706766636129,\n",
       " 0.010182523857413542,\n",
       " 0.00927274080564211,\n",
       " 0.008430755583874353,\n",
       " 0.0076529803456892075,\n",
       " 0.006935862017608054,\n",
       " 0.006275900741352612,\n",
       " 0.0056696661962641875,\n",
       " 0.005113811851513211,\n",
       " 0.004605087215077524,\n",
       " 0.004140348161352096,\n",
       " 0.003716565431705027,\n",
       " 0.0033308314123810644,\n",
       " 0.0029803653019707544,\n",
       " 0.002662516786331361,\n",
       " 0.00237476834250607,\n",
       " 0.0021147362949978446,\n",
       " 0.0018801707478823463,\n",
       " 0.001668954514867082,\n",
       " 0.00147910116670155,\n",
       " 0.0013087523114966573,\n",
       " 0.0011561742186991368,\n",
       " 0.001019753891861285,\n",
       " 0.000897994689113511,\n",
       " 0.0007895115835431134,\n",
       " 0.0006930261486525794,\n",
       " 0.0006073613468477392,\n",
       " 0.0005314361916106699,\n",
       " 0.0004642603467514125,\n",
       " 0.00040492871899995266,\n",
       " 0.0003526160932758213,\n",
       " 0.0003065718533242792,\n",
       " 0.00026611482409010797,\n",
       " 0.00023062826625536512,\n",
       " 0.00019955504782789857,\n",
       " 0.0001723930125546298,\n",
       " 0.00014869056026006644,\n",
       " 0.00012804244998052103,\n",
       " 0.0001100858329751995,\n",
       " 9.449651933767184e-05,\n",
       " 8.09854789910323e-05,\n",
       " 6.929557530885606e-05,\n",
       " 5.919852744006836e-05,\n",
       " 5.0492095604735083e-05,\n",
       " 4.299748214345888e-05,\n",
       " 3.655693991832272e-05,\n",
       " 3.103157875046291e-05,\n",
       " 2.6299359910698595e-05,\n",
       " 2.2253268227988596e-05,\n",
       " 1.8799651119459647e-05,\n",
       " 1.5856713750128935e-05,\n",
       " 1.3353159576382582e-05,\n",
       " 1.1226965692478515e-05,\n",
       " 9.424282663205064e-06,\n",
       " 7.898448869481984e-06,\n",
       " 6.609109800059437e-06,\n",
       " 5.5214331762499216e-06,\n",
       " 4.605411284258574e-06,\n",
       " 3.835242399280501e-06,\n",
       " 3.188783706833787e-06,\n",
       " 2.6470686510240065e-06,\n",
       " 2.193882159221438e-06,\n",
       " 1.8153877018939719e-06,\n",
       " 1.4998006401656547e-06,\n",
       " 1.2371027882042456e-06,\n",
       " 1.0187935698585274e-06,\n",
       " 8.376735769683742e-07,\n",
       " 6.876567390738946e-07,\n",
       " 5.636076900841811e-07,\n",
       " 4.612012665799512e-07,\n",
       " 3.7680139499782907e-07,\n",
       " 3.0735692150975927e-07,\n",
       " 2.503122097824612e-07,\n",
       " 2.0353057900992525e-07,\n",
       " 1.6522887884940894e-07,\n",
       " 1.339217004642315e-07,\n",
       " 1.08373905162682e-07,\n",
       " 8.756031553599358e-08,\n",
       " 7.063155996145606e-08,\n",
       " 5.688519125472192e-08,\n",
       " 4.5741315497986456e-08,\n",
       " 3.6722068957285957e-08,\n",
       " 2.9434370790302296e-08,\n",
       " 2.3555458123805514e-08,\n",
       " 1.882077916038101e-08,\n",
       " 1.501388029277387e-08,\n",
       " 1.1957975717651577e-08,\n",
       " 9.508933627201199e-09,\n",
       " 7.549452518624594e-09,\n",
       " 5.984235226413872e-09,\n",
       " 4.7359976081150705e-09,\n",
       " 3.742173992601924e-09,\n",
       " 2.952203060091263e-09,\n",
       " 2.3252962370351357e-09,\n",
       " 1.8286063753375898e-09,\n",
       " 1.4357278141938156e-09,\n",
       " 1.1254702201597422e-09,\n",
       " 8.808581527689835e-10,\n",
       " 6.883163590799341e-10,\n",
       " 5.37007578706843e-10,\n",
       " 4.18295330212277e-10,\n",
       " 3.253089138049892e-10,\n",
       " 2.525918452042691e-10,\n",
       " 1.958182526327994e-10,\n",
       " 1.515645271957149e-10,\n",
       " 1.1712580528803402e-10,\n",
       " 9.036875589688237e-11,\n",
       " 6.961371009382911e-11,\n",
       " 5.3540459181443576e-11,\n",
       " 4.1113107944807975e-11,\n",
       " 3.152023908868542e-11,\n",
       " 2.4127356840501216e-11,\n",
       " 1.843915921196921e-11,\n",
       " 1.4069662394466458e-11,\n",
       " 1.0718586271095924e-11,\n",
       " 8.15272290858897e-12,\n",
       " 6.191263289585321e-12,\n",
       " 4.694262336644191e-12,\n",
       " 3.553587440572387e-12,\n",
       " 2.685828628567407e-12,\n",
       " 2.0267552631844566e-12,\n",
       " 1.5269897257328745e-12,\n",
       " 1.1486369737864234e-12,\n",
       " 8.62663488311566e-13,\n",
       " 6.468626396698896e-13,\n",
       " 4.842780936749731e-13,\n",
       " 3.6198432281414015e-13,\n",
       " 2.701450170060999e-13,\n",
       " 2.0128735841951807e-13,\n",
       " 1.4974366546394845e-13,\n",
       " 1.1122256814201993e-13,\n",
       " 8.248024799097243e-14,\n",
       " 6.106883826688102e-14,\n",
       " 4.5144214501186156e-14,\n",
       " 3.331941494342786e-14,\n",
       " 2.4553055129370777e-14,\n",
       " 1.8064531346168664e-14,\n",
       " 1.3269694667397211e-14,\n",
       " 9.732139265486982e-15,\n",
       " 7.126379362709578e-15,\n",
       " 5.2100618866570936e-15,\n",
       " 3.80303421218299e-15,\n",
       " 2.771603323847055e-15,\n",
       " 2.016719467556683e-15,\n",
       " 1.465121256303417e-15,\n",
       " 1.0627115370052556e-15,\n",
       " 7.69610626082004e-16,\n",
       " 5.56468565089985e-16,\n",
       " 4.017207126979477e-16,\n",
       " 2.89548892602233e-16,\n",
       " 2.0836932043537085e-16,\n",
       " 1.4971313824725643e-16,\n",
       " 1.0739904338005563e-16,\n",
       " 7.692284912055615e-17,\n",
       " 5.5007872585665087e-17,\n",
       " 3.9274346324966125e-17,\n",
       " 2.799676172101817e-17,\n",
       " 1.9926060589499973e-17,\n",
       " 1.4159567658664444e-17,\n",
       " 1.0046008283788211e-17,\n",
       " 7.116265703150393e-18,\n",
       " 5.0329886954848e-18,\n",
       " 3.553980363461579e-18,\n",
       " 2.505644509213227e-18,\n",
       " 1.763759401962914e-18,\n",
       " 1.2395806206544462e-18,\n",
       " 8.698129264550047e-19,\n",
       " 6.093862839276073e-19,\n",
       " 4.2626073028430465e-19,\n",
       " 2.976966183259319e-19,\n",
       " 2.075814297571564e-19,\n",
       " 1.4451709066164922e-19,\n",
       " 1.0045374303497618e-19,\n",
       " 6.971549602420655e-20,\n",
       " 4.8306866708975486e-20,\n",
       " 3.341987308589343e-20,\n",
       " 2.3084318610964843e-20,\n",
       " 1.592008782718007e-20,\n",
       " 1.0961991492747239e-20,\n",
       " 7.53612023529873e-21,\n",
       " 5.172705678094103e-21,\n",
       " 3.5448126249163646e-21,\n",
       " 2.4252768965594666e-21,\n",
       " 1.6565087717686276e-21,\n",
       " 1.1293526554607896e-21,\n",
       " 7.683102204681682e-22,\n",
       " 5.212266306285643e-22,\n",
       " 3.5210061454324204e-22,\n",
       " 2.36075709016247e-22,\n",
       " 1.559494578809903e-22,\n",
       " 9.973355229393578e-23,\n",
       " 5.89347783694414e-23,\n",
       " 2.7321013228679044e-23]"
      ]
     },
     "execution_count": 83,
     "metadata": {},
     "output_type": "execute_result"
    }
   ],
   "source": [
    "psi0"
   ]
  },
  {
   "cell_type": "code",
   "execution_count": 84,
   "metadata": {},
   "outputs": [
    {
     "data": {
      "image/png": "[encoded data removed]",
      "text/plain": [
       "<Figure size 504x504 with 1 Axes>"
      ]
     },
     "metadata": {
      "needs_background": "light"
     },
     "output_type": "display_data"
    }
   ],
   "source": [
    "plt.figure(figsize=(7,7))\n",
    "plt.plot(x_s, psi0, 'b+', label=\"Численное решение\")\n",
    "plt.plot(x_s, psi0_sol, 'm', label=\"Аналитическое решение\")\n",
    "plt.grid()\n",
    "plt.title('Волновая функция основного состояния, (-10, 10)')\n",
    "plt.xlabel('x')\n",
    "plt.ylabel('psi0(x)')\n",
    "plt.legend()\n",
    "plt.show()"
   ]
  },
  {
   "cell_type": "markdown",
   "metadata": {},
   "source": [
    "### Ошибки:"
   ]
  },
  {
   "cell_type": "markdown",
   "metadata": {},
   "source": [
    "Точность вычисления энергии:"
   ]
  },
  {
   "cell_type": "code",
   "execution_count": 85,
   "metadata": {},
   "outputs": [
    {
     "data": {
      "text/plain": [
       "5.0005001498598656e-05"
      ]
     },
     "execution_count": 85,
     "metadata": {},
     "output_type": "execute_result"
    }
   ],
   "source": [
    "E0_sol - E0"
   ]
  },
  {
   "cell_type": "code",
   "execution_count": 102,
   "metadata": {},
   "outputs": [],
   "source": [
    "err = [abs(psi0[i] - psi0_sol[i]) for i in range(len(x_s))]"
   ]
  },
  {
   "cell_type": "code",
   "execution_count": 103,
   "metadata": {},
   "outputs": [
    {
     "data": {
      "text/plain": [
       "3.072466081972252e-24"
      ]
     },
     "execution_count": 103,
     "metadata": {},
     "output_type": "execute_result"
    }
   ],
   "source": [
    "min(err)"
   ]
  },
  {
   "cell_type": "code",
   "execution_count": 104,
   "metadata": {},
   "outputs": [
    {
     "data": {
      "image/png": "[encoded data removed]",
      "text/plain": [
       "<Figure size 504x504 with 1 Axes>"
      ]
     },
     "metadata": {
      "needs_background": "light"
     },
     "output_type": "display_data"
    }
   ],
   "source": [
    "plt.figure(figsize=(7,7))\n",
    "plt.plot(x_s, err, 'b+', label=\"|psi0(x) - psi0_sol(x)|\")\n",
    "plt.grid()\n",
    "plt.title('Абсолютная ошибка:')\n",
    "plt.xlabel('x')\n",
    "plt.ylabel('|psi0(x) - psi0_sol(x)|')\n",
    "plt.legend()\n",
    "plt.show()"
   ]
  },
  {
   "cell_type": "markdown",
   "metadata": {},
   "source": [
    "Посмотрим ошибки в вычислении разделенных разностей: \n",
    "\n",
    "$$\\frac{y(x-h) - 2y(x) + y(x+h)}{h^2} = y''(x) + \\frac{h^2}{12}y^{(iv)}(x)$$"
   ]
  },
  {
   "cell_type": "markdown",
   "metadata": {},
   "source": [
    "$$\\frac{h^2}{12} (\\frac{1}{\\pi})^{1/4} e^{-\\frac{x^2}{2}} (x^4 - 6x^2 + 3)$$"
   ]
  },
  {
   "cell_type": "code",
   "execution_count": 100,
   "metadata": {},
   "outputs": [],
   "source": [
    "def o(x):\n",
    "    return abs((h**2/12)*(1/math.pi)**(1/4)*math.exp((-1*x**2)/2)*(x**4 - 6*x**2 + 3))"
   ]
  },
  {
   "cell_type": "code",
   "execution_count": 101,
   "metadata": {},
   "outputs": [
    {
     "data": {
      "image/png": "[encoded data removed]",
      "text/plain": [
       "<Figure size 504x504 with 1 Axes>"
      ]
     },
     "metadata": {
      "needs_background": "light"
     },
     "output_type": "display_data"
    }
   ],
   "source": [
    "plt.figure(figsize=(7,7))\n",
    "plt.plot(x_s, [o(x) for x in x_s], 'b+', label=\"|psi0(x) - psi0_sol(x)|\")\n",
    "plt.grid()\n",
    "plt.title('Теоретически ошибка:')\n",
    "plt.xlabel('x')\n",
    "plt.ylabel('Ошибка')\n",
    "plt.legend()\n",
    "plt.show()"
   ]
  },
  {
   "cell_type": "code",
   "execution_count": null,
   "metadata": {},
   "outputs": [],
   "source": []
  }
 ],
 "metadata": {
  "kernelspec": {
   "display_name": "Python 3",
   "language": "python",
   "name": "python3"
  },
  "language_info": {
   "codemirror_mode": {
    "name": "ipython",
    "version": 3
   },
   "file_extension": ".py",
   "mimetype": "text/x-python",
   "name": "python",
   "nbconvert_exporter": "python",
   "pygments_lexer": "ipython3",
   "version": "3.7.3"
  }
 },
 "nbformat": 4,
 "nbformat_minor": 4
}
